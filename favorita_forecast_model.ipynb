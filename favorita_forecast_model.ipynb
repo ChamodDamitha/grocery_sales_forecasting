{
 "cells": [
  {
   "cell_type": "code",
   "execution_count": 1,
   "metadata": {
    "id": "Z2k3c-LgyFw8"
   },
   "outputs": [],
   "source": [
    "import pandas as pd\n",
    "import numpy as np\n",
    "from datetime import date, timedelta\n",
    "import xgboost as xgb\n",
    "import matplotlib.pyplot as plt\n",
    "import seaborn as sns\n",
    "import torch\n",
    "import lightgbm as lgb\n",
    "from sklearn.linear_model import Ridge\n",
    "from tqdm import tqdm\n",
    "import torch.nn as nn\n",
    "import torch.optim as optim\n",
    "from sklearn.preprocessing import StandardScaler\n",
    "from torch.utils.data import DataLoader, TensorDataset"
   ]
  },
  {
   "cell_type": "markdown",
   "metadata": {},
   "source": [
    "## Data Loading and Processing"
   ]
  },
  {
   "cell_type": "code",
   "execution_count": 2,
   "metadata": {
    "id": "8f4y8lVUzwg8"
   },
   "outputs": [],
   "source": [
    "data_location = \"data\""
   ]
  },
  {
   "cell_type": "code",
   "execution_count": 3,
   "metadata": {
    "id": "XTW4tq3ez4Yb"
   },
   "outputs": [
    {
     "name": "stderr",
     "output_type": "stream",
     "text": [
      "C:\\Users\\CSamarajeewa\\AppData\\Local\\Temp\\ipykernel_16852\\1666722995.py:1: DtypeWarning: Columns (5) have mixed types. Specify dtype option on import or set low_memory=False.\n",
      "  sales_data_train = pd.read_csv(f\"{data_location}/train.csv\", parse_dates=['date'], converters={'unit_sales': lambda s: np.log1p(float(s)) if float(s) > 0 else 0})\n"
     ]
    }
   ],
   "source": [
    "sales_data_train = pd.read_csv(f\"{data_location}/train.csv\", parse_dates=['date'], converters={'unit_sales': lambda s: np.log1p(float(s)) if float(s) > 0 else 0})\n",
    "items_data = pd.read_csv(f\"{data_location}/items.csv\")\n",
    "stores_data = pd.read_csv(f\"{data_location}/stores.csv\")\n",
    "transactions_data = pd.read_csv(f\"{data_location}/transactions.csv\", parse_dates=['date'])\n",
    "oil_data = pd.read_csv(f\"{data_location}/oil.csv\", parse_dates=['date'])\n",
    "holidays_events_data = pd.read_csv(f\"{data_location}/holidays_events.csv\", parse_dates=['date'])"
   ]
  },
  {
   "cell_type": "code",
   "execution_count": 5,
   "metadata": {},
   "outputs": [
    {
     "data": {
      "text/plain": [
       "array(['Local', 'Regional', 'National'], dtype=object)"
      ]
     },
     "execution_count": 5,
     "metadata": {},
     "output_type": "execute_result"
    }
   ],
   "source": [
    "holidays_events_data['locale'].unique()"
   ]
  },
  {
   "cell_type": "code",
   "execution_count": 32,
   "metadata": {},
   "outputs": [
    {
     "data": {
      "text/plain": [
       "22"
      ]
     },
     "execution_count": 32,
     "metadata": {},
     "output_type": "execute_result"
    }
   ],
   "source": [
    "len(stores_data['city'].unique())"
   ]
  },
  {
   "cell_type": "code",
   "execution_count": 4,
   "metadata": {
    "id": "SG2UQMWtz6aC"
   },
   "outputs": [],
   "source": [
    "from sklearn.preprocessing import LabelEncoder\n",
    "\n",
    "label_encoder = LabelEncoder()\n",
    "items_data['family_encoded'] = label_encoder.fit_transform(items_data['family'])\n",
    "\n",
    "stores_data['type_encoded'] = label_encoder.fit_transform(stores_data['type'])\n",
    "stores_data['city_encoded'] = label_encoder.fit_transform(stores_data['city'])\n",
    "stores_data['state_encoded'] = label_encoder.fit_transform(stores_data['state'])"
   ]
  },
  {
   "cell_type": "code",
   "execution_count": 5,
   "metadata": {
    "id": "knvBedfm2Vk9"
   },
   "outputs": [],
   "source": [
    "sales_data_train_formatted = sales_data_train.set_index([\"store_nbr\", \"item_nbr\", \"date\"])[[\"unit_sales\"]].unstack(level=-1).fillna(0)\n",
    "sales_data_train_formatted.columns = sales_data_train_formatted.columns.get_level_values(1)"
   ]
  },
  {
   "cell_type": "code",
   "execution_count": 8,
   "metadata": {
    "colab": {
     "base_uri": "https://localhost:8080/",
     "height": 284
    },
    "id": "kHJ-ou653RUh",
    "outputId": "28d5cf77-f2de-4ec4-beaf-09572f7904ab"
   },
   "outputs": [
    {
     "data": {
      "text/html": [
       "<div>\n",
       "<style scoped>\n",
       "    .dataframe tbody tr th:only-of-type {\n",
       "        vertical-align: middle;\n",
       "    }\n",
       "\n",
       "    .dataframe tbody tr th {\n",
       "        vertical-align: top;\n",
       "    }\n",
       "\n",
       "    .dataframe thead th {\n",
       "        text-align: right;\n",
       "    }\n",
       "</style>\n",
       "<table border=\"1\" class=\"dataframe\">\n",
       "  <thead>\n",
       "    <tr style=\"text-align: right;\">\n",
       "      <th></th>\n",
       "      <th>date</th>\n",
       "      <th>2013-01-01</th>\n",
       "      <th>2013-01-02</th>\n",
       "      <th>2013-01-03</th>\n",
       "      <th>2013-01-04</th>\n",
       "      <th>2013-01-05</th>\n",
       "      <th>2013-01-06</th>\n",
       "      <th>2013-01-07</th>\n",
       "      <th>2013-01-08</th>\n",
       "      <th>2013-01-09</th>\n",
       "      <th>2013-01-10</th>\n",
       "      <th>...</th>\n",
       "      <th>2017-08-06</th>\n",
       "      <th>2017-08-07</th>\n",
       "      <th>2017-08-08</th>\n",
       "      <th>2017-08-09</th>\n",
       "      <th>2017-08-10</th>\n",
       "      <th>2017-08-11</th>\n",
       "      <th>2017-08-12</th>\n",
       "      <th>2017-08-13</th>\n",
       "      <th>2017-08-14</th>\n",
       "      <th>2017-08-15</th>\n",
       "    </tr>\n",
       "    <tr>\n",
       "      <th>store_nbr</th>\n",
       "      <th>item_nbr</th>\n",
       "      <th></th>\n",
       "      <th></th>\n",
       "      <th></th>\n",
       "      <th></th>\n",
       "      <th></th>\n",
       "      <th></th>\n",
       "      <th></th>\n",
       "      <th></th>\n",
       "      <th></th>\n",
       "      <th></th>\n",
       "      <th></th>\n",
       "      <th></th>\n",
       "      <th></th>\n",
       "      <th></th>\n",
       "      <th></th>\n",
       "      <th></th>\n",
       "      <th></th>\n",
       "      <th></th>\n",
       "      <th></th>\n",
       "      <th></th>\n",
       "      <th></th>\n",
       "    </tr>\n",
       "  </thead>\n",
       "  <tbody>\n",
       "    <tr>\n",
       "      <th rowspan=\"5\" valign=\"top\">1</th>\n",
       "      <th>96995</th>\n",
       "      <td>0.0</td>\n",
       "      <td>0.000000</td>\n",
       "      <td>0.000000</td>\n",
       "      <td>0.000000</td>\n",
       "      <td>0.000000</td>\n",
       "      <td>0.000000</td>\n",
       "      <td>0.000000</td>\n",
       "      <td>0.00000</td>\n",
       "      <td>0.000000</td>\n",
       "      <td>0.693147</td>\n",
       "      <td>...</td>\n",
       "      <td>1.098612</td>\n",
       "      <td>1.098612</td>\n",
       "      <td>0.000000</td>\n",
       "      <td>0.000000</td>\n",
       "      <td>0.693147</td>\n",
       "      <td>0.000000</td>\n",
       "      <td>0.000000</td>\n",
       "      <td>0.000000</td>\n",
       "      <td>0.000000</td>\n",
       "      <td>0.000000</td>\n",
       "    </tr>\n",
       "    <tr>\n",
       "      <th>99197</th>\n",
       "      <td>0.0</td>\n",
       "      <td>0.000000</td>\n",
       "      <td>0.000000</td>\n",
       "      <td>0.000000</td>\n",
       "      <td>0.000000</td>\n",
       "      <td>0.000000</td>\n",
       "      <td>0.000000</td>\n",
       "      <td>0.00000</td>\n",
       "      <td>0.000000</td>\n",
       "      <td>0.000000</td>\n",
       "      <td>...</td>\n",
       "      <td>0.000000</td>\n",
       "      <td>1.098612</td>\n",
       "      <td>0.000000</td>\n",
       "      <td>1.098612</td>\n",
       "      <td>0.000000</td>\n",
       "      <td>0.000000</td>\n",
       "      <td>0.000000</td>\n",
       "      <td>0.000000</td>\n",
       "      <td>0.000000</td>\n",
       "      <td>0.000000</td>\n",
       "    </tr>\n",
       "    <tr>\n",
       "      <th>103520</th>\n",
       "      <td>0.0</td>\n",
       "      <td>0.000000</td>\n",
       "      <td>0.000000</td>\n",
       "      <td>1.098612</td>\n",
       "      <td>1.386294</td>\n",
       "      <td>0.000000</td>\n",
       "      <td>1.098612</td>\n",
       "      <td>1.94591</td>\n",
       "      <td>1.386294</td>\n",
       "      <td>0.693147</td>\n",
       "      <td>...</td>\n",
       "      <td>0.000000</td>\n",
       "      <td>0.000000</td>\n",
       "      <td>1.386294</td>\n",
       "      <td>0.000000</td>\n",
       "      <td>1.386294</td>\n",
       "      <td>0.693147</td>\n",
       "      <td>0.693147</td>\n",
       "      <td>0.693147</td>\n",
       "      <td>0.000000</td>\n",
       "      <td>0.000000</td>\n",
       "    </tr>\n",
       "    <tr>\n",
       "      <th>103665</th>\n",
       "      <td>0.0</td>\n",
       "      <td>1.098612</td>\n",
       "      <td>1.386294</td>\n",
       "      <td>1.098612</td>\n",
       "      <td>1.609438</td>\n",
       "      <td>1.098612</td>\n",
       "      <td>0.693147</td>\n",
       "      <td>0.00000</td>\n",
       "      <td>0.693147</td>\n",
       "      <td>1.945910</td>\n",
       "      <td>...</td>\n",
       "      <td>0.693147</td>\n",
       "      <td>1.098612</td>\n",
       "      <td>0.000000</td>\n",
       "      <td>2.079442</td>\n",
       "      <td>2.302585</td>\n",
       "      <td>1.098612</td>\n",
       "      <td>0.000000</td>\n",
       "      <td>0.000000</td>\n",
       "      <td>0.693147</td>\n",
       "      <td>0.693147</td>\n",
       "    </tr>\n",
       "    <tr>\n",
       "      <th>105574</th>\n",
       "      <td>0.0</td>\n",
       "      <td>2.197225</td>\n",
       "      <td>1.609438</td>\n",
       "      <td>2.197225</td>\n",
       "      <td>1.609438</td>\n",
       "      <td>1.098612</td>\n",
       "      <td>1.945910</td>\n",
       "      <td>1.94591</td>\n",
       "      <td>2.302585</td>\n",
       "      <td>1.609438</td>\n",
       "      <td>...</td>\n",
       "      <td>0.000000</td>\n",
       "      <td>1.791759</td>\n",
       "      <td>2.079442</td>\n",
       "      <td>1.945910</td>\n",
       "      <td>2.397895</td>\n",
       "      <td>1.791759</td>\n",
       "      <td>1.791759</td>\n",
       "      <td>0.000000</td>\n",
       "      <td>1.386294</td>\n",
       "      <td>1.609438</td>\n",
       "    </tr>\n",
       "  </tbody>\n",
       "</table>\n",
       "<p>5 rows × 1684 columns</p>\n",
       "</div>"
      ],
      "text/plain": [
       "date                2013-01-01  2013-01-02  2013-01-03  2013-01-04  \\\n",
       "store_nbr item_nbr                                                   \n",
       "1         96995            0.0    0.000000    0.000000    0.000000   \n",
       "          99197            0.0    0.000000    0.000000    0.000000   \n",
       "          103520           0.0    0.000000    0.000000    1.098612   \n",
       "          103665           0.0    1.098612    1.386294    1.098612   \n",
       "          105574           0.0    2.197225    1.609438    2.197225   \n",
       "\n",
       "date                2013-01-05  2013-01-06  2013-01-07  2013-01-08  \\\n",
       "store_nbr item_nbr                                                   \n",
       "1         96995       0.000000    0.000000    0.000000     0.00000   \n",
       "          99197       0.000000    0.000000    0.000000     0.00000   \n",
       "          103520      1.386294    0.000000    1.098612     1.94591   \n",
       "          103665      1.609438    1.098612    0.693147     0.00000   \n",
       "          105574      1.609438    1.098612    1.945910     1.94591   \n",
       "\n",
       "date                2013-01-09  2013-01-10  ...  2017-08-06  2017-08-07  \\\n",
       "store_nbr item_nbr                          ...                           \n",
       "1         96995       0.000000    0.693147  ...    1.098612    1.098612   \n",
       "          99197       0.000000    0.000000  ...    0.000000    1.098612   \n",
       "          103520      1.386294    0.693147  ...    0.000000    0.000000   \n",
       "          103665      0.693147    1.945910  ...    0.693147    1.098612   \n",
       "          105574      2.302585    1.609438  ...    0.000000    1.791759   \n",
       "\n",
       "date                2017-08-08  2017-08-09  2017-08-10  2017-08-11  \\\n",
       "store_nbr item_nbr                                                   \n",
       "1         96995       0.000000    0.000000    0.693147    0.000000   \n",
       "          99197       0.000000    1.098612    0.000000    0.000000   \n",
       "          103520      1.386294    0.000000    1.386294    0.693147   \n",
       "          103665      0.000000    2.079442    2.302585    1.098612   \n",
       "          105574      2.079442    1.945910    2.397895    1.791759   \n",
       "\n",
       "date                2017-08-12  2017-08-13  2017-08-14  2017-08-15  \n",
       "store_nbr item_nbr                                                  \n",
       "1         96995       0.000000    0.000000    0.000000    0.000000  \n",
       "          99197       0.000000    0.000000    0.000000    0.000000  \n",
       "          103520      0.693147    0.693147    0.000000    0.000000  \n",
       "          103665      0.000000    0.000000    0.693147    0.693147  \n",
       "          105574      1.791759    0.000000    1.386294    1.609438  \n",
       "\n",
       "[5 rows x 1684 columns]"
      ]
     },
     "execution_count": 8,
     "metadata": {},
     "output_type": "execute_result"
    }
   ],
   "source": [
    "sales_data_train_formatted.head()"
   ]
  },
  {
   "cell_type": "code",
   "execution_count": 6,
   "metadata": {
    "colab": {
     "base_uri": "https://localhost:8080/",
     "height": 238
    },
    "id": "QjHyszeP3zvy",
    "outputId": "34ae489e-e55f-4134-97ac-e6d52a637f5b"
   },
   "outputs": [
    {
     "data": {
      "text/html": [
       "<div>\n",
       "<style scoped>\n",
       "    .dataframe tbody tr th:only-of-type {\n",
       "        vertical-align: middle;\n",
       "    }\n",
       "\n",
       "    .dataframe tbody tr th {\n",
       "        vertical-align: top;\n",
       "    }\n",
       "\n",
       "    .dataframe thead th {\n",
       "        text-align: right;\n",
       "    }\n",
       "</style>\n",
       "<table border=\"1\" class=\"dataframe\">\n",
       "  <thead>\n",
       "    <tr style=\"text-align: right;\">\n",
       "      <th></th>\n",
       "      <th>city</th>\n",
       "      <th>state</th>\n",
       "      <th>type</th>\n",
       "      <th>cluster</th>\n",
       "      <th>type_encoded</th>\n",
       "      <th>city_encoded</th>\n",
       "      <th>state_encoded</th>\n",
       "    </tr>\n",
       "    <tr>\n",
       "      <th>store_nbr</th>\n",
       "      <th></th>\n",
       "      <th></th>\n",
       "      <th></th>\n",
       "      <th></th>\n",
       "      <th></th>\n",
       "      <th></th>\n",
       "      <th></th>\n",
       "    </tr>\n",
       "  </thead>\n",
       "  <tbody>\n",
       "    <tr>\n",
       "      <th>1</th>\n",
       "      <td>Quito</td>\n",
       "      <td>Pichincha</td>\n",
       "      <td>D</td>\n",
       "      <td>13</td>\n",
       "      <td>3</td>\n",
       "      <td>18</td>\n",
       "      <td>12</td>\n",
       "    </tr>\n",
       "    <tr>\n",
       "      <th>1</th>\n",
       "      <td>Quito</td>\n",
       "      <td>Pichincha</td>\n",
       "      <td>D</td>\n",
       "      <td>13</td>\n",
       "      <td>3</td>\n",
       "      <td>18</td>\n",
       "      <td>12</td>\n",
       "    </tr>\n",
       "    <tr>\n",
       "      <th>1</th>\n",
       "      <td>Quito</td>\n",
       "      <td>Pichincha</td>\n",
       "      <td>D</td>\n",
       "      <td>13</td>\n",
       "      <td>3</td>\n",
       "      <td>18</td>\n",
       "      <td>12</td>\n",
       "    </tr>\n",
       "    <tr>\n",
       "      <th>1</th>\n",
       "      <td>Quito</td>\n",
       "      <td>Pichincha</td>\n",
       "      <td>D</td>\n",
       "      <td>13</td>\n",
       "      <td>3</td>\n",
       "      <td>18</td>\n",
       "      <td>12</td>\n",
       "    </tr>\n",
       "    <tr>\n",
       "      <th>1</th>\n",
       "      <td>Quito</td>\n",
       "      <td>Pichincha</td>\n",
       "      <td>D</td>\n",
       "      <td>13</td>\n",
       "      <td>3</td>\n",
       "      <td>18</td>\n",
       "      <td>12</td>\n",
       "    </tr>\n",
       "  </tbody>\n",
       "</table>\n",
       "</div>"
      ],
      "text/plain": [
       "            city      state type  cluster  type_encoded  city_encoded  \\\n",
       "store_nbr                                                               \n",
       "1          Quito  Pichincha    D       13             3            18   \n",
       "1          Quito  Pichincha    D       13             3            18   \n",
       "1          Quito  Pichincha    D       13             3            18   \n",
       "1          Quito  Pichincha    D       13             3            18   \n",
       "1          Quito  Pichincha    D       13             3            18   \n",
       "\n",
       "           state_encoded  \n",
       "store_nbr                 \n",
       "1                     12  \n",
       "1                     12  \n",
       "1                     12  \n",
       "1                     12  \n",
       "1                     12  "
      ]
     },
     "execution_count": 6,
     "metadata": {},
     "output_type": "execute_result"
    }
   ],
   "source": [
    "stores_data_indexed = stores_data.set_index('store_nbr')\n",
    "stores_data_indexed = stores_data_indexed.reindex(sales_data_train_formatted.index.get_level_values(0))\n",
    "stores_data_indexed.head()"
   ]
  },
  {
   "cell_type": "code",
   "execution_count": 7,
   "metadata": {
    "colab": {
     "base_uri": "https://localhost:8080/",
     "height": 238
    },
    "id": "uYrB_su83eHk",
    "outputId": "011735e5-17ce-4df2-ed5a-a434d1555155"
   },
   "outputs": [
    {
     "data": {
      "text/html": [
       "<div>\n",
       "<style scoped>\n",
       "    .dataframe tbody tr th:only-of-type {\n",
       "        vertical-align: middle;\n",
       "    }\n",
       "\n",
       "    .dataframe tbody tr th {\n",
       "        vertical-align: top;\n",
       "    }\n",
       "\n",
       "    .dataframe thead th {\n",
       "        text-align: right;\n",
       "    }\n",
       "</style>\n",
       "<table border=\"1\" class=\"dataframe\">\n",
       "  <thead>\n",
       "    <tr style=\"text-align: right;\">\n",
       "      <th></th>\n",
       "      <th>family</th>\n",
       "      <th>class</th>\n",
       "      <th>perishable</th>\n",
       "      <th>family_encoded</th>\n",
       "    </tr>\n",
       "    <tr>\n",
       "      <th>item_nbr</th>\n",
       "      <th></th>\n",
       "      <th></th>\n",
       "      <th></th>\n",
       "      <th></th>\n",
       "    </tr>\n",
       "  </thead>\n",
       "  <tbody>\n",
       "    <tr>\n",
       "      <th>96995</th>\n",
       "      <td>GROCERY I</td>\n",
       "      <td>1093</td>\n",
       "      <td>0</td>\n",
       "      <td>12</td>\n",
       "    </tr>\n",
       "    <tr>\n",
       "      <th>99197</th>\n",
       "      <td>GROCERY I</td>\n",
       "      <td>1067</td>\n",
       "      <td>0</td>\n",
       "      <td>12</td>\n",
       "    </tr>\n",
       "    <tr>\n",
       "      <th>103520</th>\n",
       "      <td>GROCERY I</td>\n",
       "      <td>1028</td>\n",
       "      <td>0</td>\n",
       "      <td>12</td>\n",
       "    </tr>\n",
       "    <tr>\n",
       "      <th>103665</th>\n",
       "      <td>BREAD/BAKERY</td>\n",
       "      <td>2712</td>\n",
       "      <td>1</td>\n",
       "      <td>5</td>\n",
       "    </tr>\n",
       "    <tr>\n",
       "      <th>105574</th>\n",
       "      <td>GROCERY I</td>\n",
       "      <td>1045</td>\n",
       "      <td>0</td>\n",
       "      <td>12</td>\n",
       "    </tr>\n",
       "  </tbody>\n",
       "</table>\n",
       "</div>"
      ],
      "text/plain": [
       "                family  class  perishable  family_encoded\n",
       "item_nbr                                                 \n",
       "96995        GROCERY I   1093           0              12\n",
       "99197        GROCERY I   1067           0              12\n",
       "103520       GROCERY I   1028           0              12\n",
       "103665    BREAD/BAKERY   2712           1               5\n",
       "105574       GROCERY I   1045           0              12"
      ]
     },
     "execution_count": 7,
     "metadata": {},
     "output_type": "execute_result"
    }
   ],
   "source": [
    "items_data_indexed = items_data.set_index('item_nbr')\n",
    "items_data_indexed = items_data_indexed.reindex(sales_data_train_formatted.index.get_level_values(1))\n",
    "items_data_indexed.head()"
   ]
  },
  {
   "cell_type": "markdown",
   "metadata": {},
   "source": [
    "## Preparing Dataset"
   ]
  },
  {
   "cell_type": "code",
   "execution_count": 11,
   "metadata": {
    "id": "uzbdz7M-38yr"
   },
   "outputs": [],
   "source": [
    "def get_baseline_dataset(start_date, num_days=14, train=True):\n",
    "  y = None\n",
    "  X = pd.DataFrame({\n",
    "      \"family\": items_data_indexed[\"family_encoded\"].values,\n",
    "      \"class\": items_data_indexed[\"class\"].values,\n",
    "      \"perishable\": items_data_indexed[\"perishable\"].values,\n",
    "      \"store_type\": stores_data_indexed[\"type_encoded\"].values,\n",
    "      \"store_city\": stores_data_indexed[\"city_encoded\"].values,\n",
    "      \"store_cluster\": stores_data_indexed[\"cluster\"].values,\n",
    "      \"store_state\": stores_data_indexed[\"state_encoded\"].values,\n",
    "  })\n",
    "\n",
    "  if train:\n",
    "    y = sales_data_train_formatted[pd.date_range(start_date, periods=num_days)].values\n",
    "\n",
    "  return X, y"
   ]
  },
  {
   "cell_type": "code",
   "execution_count": 8,
   "metadata": {
    "id": "MMBD2l9QPyF4"
   },
   "outputs": [],
   "source": [
    "def get_timespan(df, dt, minus, periods, freq='D'):\n",
    "    return df[pd.date_range(dt - timedelta(days=minus), periods=periods, freq=freq)]\n",
    "\n",
    "\n",
    "def get_extended_dataset(start_date, num_days=14, train=True):\n",
    "    y = None\n",
    "    X = pd.DataFrame({\n",
    "        \"family\": items_data_indexed[\"family_encoded\"].values,\n",
    "        \"class\": items_data_indexed[\"class\"].values,\n",
    "        \"perishable\": items_data_indexed[\"perishable\"].values,\n",
    "        \"store_type\": stores_data_indexed[\"type_encoded\"].values,\n",
    "        \"store_city\": stores_data_indexed[\"city_encoded\"].values,\n",
    "        \"store_cluster\": stores_data_indexed[\"cluster\"].values,\n",
    "        \"store_state\": stores_data_indexed[\"state_encoded\"].values,\n",
    "        \"day_1\": get_timespan(sales_data_train_formatted, start_date, 1, 1).values.ravel(),  # sales for day 1\n",
    "        \"mean_3\": get_timespan(sales_data_train_formatted, start_date, 3, 3).mean(axis=1).values,  # mean sales over 3 days\n",
    "        \"mean_7\": get_timespan(sales_data_train_formatted, start_date, 7, 7).mean(axis=1).values,  # mean sales over 7 days\n",
    "        \"mean_14\": get_timespan(sales_data_train_formatted, start_date, 14, 14).mean(axis=1).values,  # mean sales over 14 days\n",
    "        # \"mean_30\": get_timespan(sales_data_train_formatted, start_date, 30, 30).mean(axis=1).values,  # mean sales over 30 days\n",
    "        # \"mean_60\": get_timespan(sales_data_train_formatted, start_date, 60, 60).mean(axis=1).values,  # mean sales over 60 days\n",
    "        # \"mean_140\": get_timespan(sales_data_train_formatted, start_date, 140, 140).mean(axis=1).values,  # mean sales over 140 days\n",
    "    })\n",
    "\n",
    "    for i in range(7):\n",
    "        X['mean_4_dow{}_sales'.format(i)] = get_timespan(sales_data_train_formatted, start_date, 28-i, 4, freq='7D').mean(axis=1).values\n",
    "        # X['mean_20_dow{}_sales'.format(i)] = get_timespan(sales_data_train_formatted, start_date, 140-i, 20, freq='7D').mean(axis=1).values\n",
    "\n",
    "    if train:\n",
    "        y = sales_data_train_formatted[pd.date_range(start_date, periods=num_days)].values\n",
    "        return X, y\n",
    "\n",
    "    return X\n",
    "\n"
   ]
  },
  {
   "cell_type": "code",
   "execution_count": 9,
   "metadata": {
    "id": "AuPV0ewk8sIL"
   },
   "outputs": [],
   "source": [
    "import numpy as np\n",
    "from sklearn.metrics import mean_squared_error, mean_absolute_error\n",
    "\n",
    "def cal_error(y_true, y_pred, weights, pred_days=14):\n",
    "\n",
    "    y_true = np.clip(y_true, 0, None)\n",
    "    y_pred = np.clip(y_pred, 0, None)\n",
    "\n",
    "    mse = mean_squared_error(y_true, y_pred, sample_weight=weights)\n",
    "    rmse = np.sqrt(mse)\n",
    "\n",
    "    mae = mean_absolute_error(y_true, y_pred, sample_weight=weights)\n",
    "\n",
    "    try:\n",
    "        err = (y_true- y_pred) ** 2\n",
    "        err = err.sum(axis=1) * weights\n",
    "        nwrmsle = np.sqrt(err.sum() / weights.sum() / pred_days)\n",
    "    except:\n",
    "        nwrmsle = rmse\n",
    "\n",
    "    return mse, rmse, mae, nwrmsle"
   ]
  },
  {
   "cell_type": "code",
   "execution_count": 14,
   "metadata": {
    "colab": {
     "base_uri": "https://localhost:8080/"
    },
    "id": "gLvr3n0U8NPA",
    "outputId": "c3863f98-358a-4907-f15f-76b94bacd7b0"
   },
   "outputs": [
    {
     "data": {
      "text/plain": [
       "DatetimeIndex(['2013-01-01', '2013-01-02', '2013-01-03', '2013-01-04',\n",
       "               '2013-01-05', '2013-01-06', '2013-01-07', '2013-01-08',\n",
       "               '2013-01-09', '2013-01-10',\n",
       "               ...\n",
       "               '2017-08-06', '2017-08-07', '2017-08-08', '2017-08-09',\n",
       "               '2017-08-10', '2017-08-11', '2017-08-12', '2017-08-13',\n",
       "               '2017-08-14', '2017-08-15'],\n",
       "              dtype='datetime64[ns]', name='date', length=1684, freq=None)"
      ]
     },
     "execution_count": 14,
     "metadata": {},
     "output_type": "execute_result"
    }
   ],
   "source": [
    "sales_data_train_formatted.columns"
   ]
  },
  {
   "cell_type": "code",
   "execution_count": 16,
   "metadata": {
    "id": "l3yRP_gO8QXN"
   },
   "outputs": [],
   "source": [
    "train_start_date = date(2017, 1, 1)\n",
    "val_start_date = date(2017, 6, 1)\n",
    "test_start_date = date(2017, 7, 1)\n",
    "\n",
    "X_l, y_l = [], []\n",
    "for i in range(6):\n",
    "    delta = timedelta(days = 7 * i)\n",
    "    X_tmp, y_tmp = get_baseline_dataset(train_start_date + delta)\n",
    "    X_l.append(X_tmp)\n",
    "    y_l.append(y_tmp)\n",
    "\n",
    "X_train = pd.concat(X_l, axis=0)\n",
    "y_train = np.concatenate(y_l, axis=0)\n",
    "del X_l, y_l\n",
    "\n",
    "X_val, y_val = get_baseline_dataset(start_date=val_start_date, num_days=14)\n",
    "X_test, y_test = get_baseline_dataset(start_date=test_start_date, num_days=14)"
   ]
  },
  {
   "cell_type": "markdown",
   "metadata": {},
   "source": [
    "## BASELINE - Moving Average"
   ]
  },
  {
   "cell_type": "code",
   "execution_count": 74,
   "metadata": {},
   "outputs": [
    {
     "name": "stdout",
     "output_type": "stream",
     "text": [
      "Step 1 _______________\n",
      "Step 2 _______________\n",
      "Step 3 _______________\n",
      "Step 4 _______________\n",
      "Step 5 _______________\n",
      "Step 6 _______________\n",
      "Step 7 _______________\n",
      "Step 8 _______________\n",
      "Step 9 _______________\n",
      "Step 10 _______________\n",
      "Step 11 _______________\n",
      "Step 12 _______________\n",
      "Step 13 _______________\n",
      "Step 14 _______________\n",
      "Step 1 _______________\n",
      "Step 2 _______________\n",
      "Step 3 _______________\n",
      "Step 4 _______________\n",
      "Step 5 _______________\n",
      "Step 6 _______________\n",
      "Step 7 _______________\n",
      "Step 8 _______________\n",
      "Step 9 _______________\n",
      "Step 10 _______________\n",
      "Step 11 _______________\n",
      "Step 12 _______________\n",
      "Step 13 _______________\n",
      "Step 14 _______________\n",
      "\n",
      "Final Combined Validation Metrics:\n",
      "Overall Test NWRMSLE: 1.1539158826902838\n",
      "Overall Test MSE: 1.359742446661659\n",
      "Overall Test RMSE: 1.1539158826902838\n",
      "Overall Test MAE: 0.9092130830999565\n",
      "Exponential Metrics\n",
      "Overall Test MSE: 246.67673518529577\n",
      "Overall Test RMSE: 15.705945854525787\n",
      "Overall Test MAE: 5.046749097415669\n"
     ]
    }
   ],
   "source": [
    "import numpy as np\n",
    "import pandas as pd\n",
    "\n",
    "def moving_average_forecast(X_train, y_train, X_test, window_size=7):\n",
    "    num_targets = y_train.shape[1]\n",
    "    y_pred_test_all = []\n",
    "\n",
    "    for i in range(num_targets):\n",
    "        print(f\"Step {i+1} _______________\")\n",
    "        \n",
    "        y_train_i = np.array(y_train[:, i]).ravel()\n",
    "        \n",
    "        y_pred_test = []\n",
    "        for idx in range(len(X_test)):\n",
    "            past_values = y_train_i[max(0, idx - window_size):idx]\n",
    "            if len(past_values) > 0:\n",
    "                pred_value = np.mean(past_values)  \n",
    "            else:\n",
    "                pred_value = np.mean(y_train_i)\n",
    "            \n",
    "            y_pred_test.append(pred_value)\n",
    "        \n",
    "        y_pred_test = np.array(y_pred_test)\n",
    "        y_pred_test_all.append(y_pred_test)\n",
    "\n",
    "    return np.array(y_pred_test_all).T \n",
    "\n",
    "y_pred_val = moving_average_forecast(X_train, y_train, X_val)\n",
    "y_pred_test = moving_average_forecast(X_train, y_train, X_test)\n",
    "\n",
    "weights = items_data_indexed[\"perishable\"].values * 0.25 + 1\n",
    "total_mse, total_rmse, total_mae, total_nwrmsle = 0, 0, 0, 0\n",
    "\n",
    "for i in range(y_train.shape[1]):\n",
    "    mse, rmse, mae, nwrmsle = cal_error(y_test[:, i], y_pred_test[:, i], weights)\n",
    "    total_mse += mse\n",
    "    total_rmse += rmse\n",
    "    total_mae += mae\n",
    "    total_nwrmsle += nwrmsle\n",
    "\n",
    "total_mse /= y_train.shape[1]\n",
    "total_rmse /= y_train.shape[1]\n",
    "total_mae /= y_train.shape[1]\n",
    "total_nwrmsle /= y_train.shape[1]\n",
    "\n",
    "print(\"\\nFinal Combined Validation Metrics:\")\n",
    "print(f'Overall Test NWRMSLE: {total_nwrmsle}')\n",
    "print(f'Overall Test MSE: {total_mse}')\n",
    "print(f'Overall Test RMSE: {total_rmse}')\n",
    "print(f'Overall Test MAE: {total_mae}')\n",
    "\n",
    "print(\"Exponential Metrics\")\n",
    "mse_test_exp, rmse_test_exp, mae_test_exp, _ = cal_error(np.clip(np.expm1(y_test), 0, 1000), np.clip(np.expm1(y_pred_test), 0, 1000), weights)\n",
    "print(f'Overall Test MSE: {mse_test_exp}')\n",
    "print(f'Overall Test RMSE: {rmse_test_exp}')\n",
    "print(f'Overall Test MAE: {mae_test_exp}')"
   ]
  },
  {
   "cell_type": "markdown",
   "metadata": {
    "id": "xRM8PQJ6_Q3e"
   },
   "source": [
    "## BASELINE - XGBOOST"
   ]
  },
  {
   "cell_type": "code",
   "execution_count": null,
   "metadata": {
    "colab": {
     "base_uri": "https://localhost:8080/"
    },
    "id": "S7Erhf79A5VX",
    "outputId": "2c7218f6-600d-4482-f5c2-d83bbf46426f"
   },
   "outputs": [
    {
     "name": "stdout",
     "output_type": "stream",
     "text": [
      "Step 0 _______________\n"
     ]
    },
    {
     "name": "stderr",
     "output_type": "stream",
     "text": [
      "C:\\Users\\CSamarajeewa\\AppData\\Local\\Programs\\Python\\Python310\\lib\\site-packages\\xgboost\\core.py:617: FutureWarning: Pass `evals` as keyword args.\n",
      "  warnings.warn(msg, FutureWarning)\n"
     ]
    },
    {
     "name": "stdout",
     "output_type": "stream",
     "text": [
      "[0]\ttrain-rmse:1.21856\tval-rmse:1.11986\n",
      "[50]\ttrain-rmse:1.04894\tval-rmse:0.95984\n",
      "[100]\ttrain-rmse:1.03969\tval-rmse:0.95168\n",
      "[150]\ttrain-rmse:1.03438\tval-rmse:0.94729\n",
      "[200]\ttrain-rmse:1.03189\tval-rmse:0.94559\n",
      "[250]\ttrain-rmse:1.02996\tval-rmse:0.94403\n"
     ]
    }
   ],
   "source": [
    "import xgboost as xgb\n",
    "import numpy as np\n",
    "\n",
    "num_targets = y_train.shape[1]\n",
    "models = []\n",
    "\n",
    "total_mse, total_rmse, total_mae, total_nwrmsle, total_mse_exp, total_rmse_exp, total_mae_exp,  = 0, 0, 0, 0, 0, 0, 0\n",
    "\n",
    "\n",
    "for i in range(num_targets):\n",
    "\n",
    "    print(f\"Step {i} _______________\")\n",
    "\n",
    "    y_train_i = np.array(y_train[:, i]).ravel()\n",
    "    y_val_i = np.array(y_val[:, i]).ravel()\n",
    "    y_test_i = np.array(y_test[:, i]).ravel()\n",
    "\n",
    "    dtrain = xgb.DMatrix(X_train, label=y_train_i)\n",
    "    dval = xgb.DMatrix(X_val, label=y_val_i)\n",
    "    dtest = xgb.DMatrix(X_test, label=y_test_i)\n",
    "\n",
    "    params = {\n",
    "        'objective': 'reg:squarederror',\n",
    "        'eval_metric': 'rmse',\n",
    "        'max_depth': 6,\n",
    "        'learning_rate': 0.1,\n",
    "        'subsample': 0.8,\n",
    "        'colsample_bytree': 0.8,\n",
    "        'alpha': 0.01,\n",
    "        'lambda': 0.01,\n",
    "    }\n",
    "\n",
    "    watchlist = [(dtrain, 'train'), (dval, 'val')]\n",
    "\n",
    "    num_round = 300\n",
    "    model = xgb.train(params, dtrain, num_round, watchlist, early_stopping_rounds=50, verbose_eval=50)\n",
    "    models.append(model)\n",
    "\n",
    "    y_pred_val = model.predict(dval)\n",
    "    y_pred_test = model.predict(dtest)\n",
    "    \n",
    "    weights = items_data_indexed[\"perishable\"].values * 0.25 + 1\n",
    "    mse, rmse, mae, nwrmsle = cal_error(y_val_i, y_pred_val, weights)\n",
    "    print(f'Target {i+1} Validation NWRMSLE: {nwrmsle}')\n",
    "    print(f'Target {i+1} Validation MSE: {mse}')\n",
    "    print(f'Target {i+1} Validation RMSE: {rmse}')\n",
    "    print(f'Target {i+1} Validation MAE: {mae}')\n",
    "\n",
    "    _, _, _, nwrmsle_test = cal_error(y_test_i, y_pred_test, weights)\n",
    "    mse_test, rmse_test, mae_test, _ = cal_error(np.clip(np.expm1(y_test_i), 0, 1000), np.clip(np.expm1(y_pred_test), 0, 1000), weights)\n",
    "    print(f'Target {i+1} Test NWRMSLE: {nwrmsle_test}')\n",
    "    print(f'Target {i+1} Test MSE: {mse_test}')\n",
    "    print(f'Target {i+1} Test RMSE: {rmse_test}')\n",
    "    print(f'Target {i+1} Test MAE: {mae_test}')\n",
    "    \n",
    "    total_mse += mse_test\n",
    "    total_rmse += rmse_test\n",
    "    total_mae += mae_test\n",
    "    total_nwrmsle += nwrmsle_test    \n",
    "\n",
    "    feature_importance = model.get_score(importance_type='weight')\n",
    "    print(f'Target {i+1} Feature Importance:')\n",
    "    print(feature_importance)\n",
    "\n",
    "    model.save_model(f'xgboost_baseline_model_target_{i+1}.model')\n",
    "\n",
    "total_mse /= num_targets\n",
    "total_rmse /= num_targets\n",
    "total_mae /= num_targets\n",
    "total_nwrmsle /= num_targets\n",
    "\n",
    "print(\"\\nFinal Combined Test Metrics:\")\n",
    "print(f'Overall Test NWRMSLE: {total_nwrmsle}')\n",
    "print(f'Overall Test MSE: {total_mse}')\n",
    "print(f'Overall Test RMSE: {total_rmse}')\n",
    "print(f'Overall Test MAE: {total_mae}')"
   ]
  },
  {
   "cell_type": "code",
   "execution_count": 73,
   "metadata": {
    "colab": {
     "base_uri": "https://localhost:8080/",
     "height": 564
    },
    "id": "Ksd-8_RGPPr_",
    "outputId": "4e8aaeab-1c70-48fd-c2ef-6c6136609d57"
   },
   "outputs": [
    {
     "data": {
      "image/png": "[encoded data removed]",
      "text/plain": [
       "<Figure size 1000x600 with 1 Axes>"
      ]
     },
     "metadata": {},
     "output_type": "display_data"
    }
   ],
   "source": [
    "sorted_features = sorted(feature_importance.items(), key=lambda x: x[1], reverse=True)\n",
    "features, importance = zip(*sorted_features)\n",
    "\n",
    "plt.figure(figsize=(10, 6))\n",
    "plt.barh(features, importance)\n",
    "plt.xlabel('Feature Importance')\n",
    "plt.title('Feature Importance (Weight) for XGBoost Model')\n",
    "plt.gca().invert_yaxis()\n",
    "plt.show()"
   ]
  },
  {
   "cell_type": "markdown",
   "metadata": {},
   "source": [
    "# BASELINE 3 - LightGBM Model"
   ]
  },
  {
   "cell_type": "code",
   "execution_count": 73,
   "metadata": {},
   "outputs": [
    {
     "name": "stdout",
     "output_type": "stream",
     "text": [
      "Step 0 _______________\n",
      "Training until validation scores don't improve for 50 rounds\n",
      "[50]\ttraining's rmse: 1.05169\tvalid_1's rmse: 0.961605\n",
      "[100]\ttraining's rmse: 1.04207\tvalid_1's rmse: 0.953511\n",
      "[150]\ttraining's rmse: 1.0381\tvalid_1's rmse: 0.950624\n",
      "[200]\ttraining's rmse: 1.03611\tvalid_1's rmse: 0.949282\n",
      "[250]\ttraining's rmse: 1.03475\tvalid_1's rmse: 0.948421\n",
      "[300]\ttraining's rmse: 1.03352\tvalid_1's rmse: 0.947506\n",
      "Did not meet early stopping. Best iteration is:\n",
      "[300]\ttraining's rmse: 1.03352\tvalid_1's rmse: 0.947506\n",
      "Target 1 Validation NWRMSLE: 0.95194044870053\n",
      "Target 1 Validation MSE: 0.9061906178721664\n",
      "Target 1 Validation RMSE: 0.95194044870053\n",
      "Target 1 Validation MAE: 0.7669722227621147\n",
      "Target 1 Test NWRMSLE: 1.0822363679886593\n",
      "Target 1 Test MSE: 359.5609813206091\n",
      "Target 1 Test RMSE: 18.96209327370291\n",
      "Target 1 Test MAE: 6.131853706807588\n",
      "Target 1 Feature Importance:\n",
      "{'family': np.int32(945), 'class': np.int32(3564), 'perishable': np.int32(127), 'store_type': np.int32(1257), 'store_city': np.int32(1112), 'store_cluster': np.int32(1157), 'store_state': np.int32(838)}\n",
      "Step 1 _______________\n",
      "Training until validation scores don't improve for 50 rounds\n",
      "[50]\ttraining's rmse: 0.973113\tvalid_1's rmse: 0.999617\n",
      "[100]\ttraining's rmse: 0.961879\tvalid_1's rmse: 0.991858\n",
      "[150]\ttraining's rmse: 0.956688\tvalid_1's rmse: 0.988632\n",
      "[200]\ttraining's rmse: 0.953923\tvalid_1's rmse: 0.986811\n",
      "[250]\ttraining's rmse: 0.951971\tvalid_1's rmse: 0.985491\n",
      "[300]\ttraining's rmse: 0.95052\tvalid_1's rmse: 0.984672\n",
      "Did not meet early stopping. Best iteration is:\n",
      "[300]\ttraining's rmse: 0.95052\tvalid_1's rmse: 0.984672\n",
      "Target 2 Validation NWRMSLE: 0.9898010905012623\n",
      "Target 2 Validation MSE: 0.9797061987574881\n",
      "Target 2 Validation RMSE: 0.9898010905012623\n",
      "Target 2 Validation MAE: 0.7933412259147936\n",
      "Target 2 Test NWRMSLE: 1.0928502348712528\n",
      "Target 2 Test MSE: 431.01381115352706\n",
      "Target 2 Test RMSE: 20.760872119290344\n",
      "Target 2 Test MAE: 6.619609081080462\n",
      "Target 2 Feature Importance:\n",
      "{'family': np.int32(923), 'class': np.int32(3479), 'perishable': np.int32(119), 'store_type': np.int32(1205), 'store_city': np.int32(1121), 'store_cluster': np.int32(1215), 'store_state': np.int32(938)}\n",
      "Step 2 _______________\n",
      "Training until validation scores don't improve for 50 rounds\n",
      "[50]\ttraining's rmse: 0.952604\tvalid_1's rmse: 1.0936\n",
      "[100]\ttraining's rmse: 0.942802\tvalid_1's rmse: 1.08396\n",
      "[150]\ttraining's rmse: 0.938309\tvalid_1's rmse: 1.07904\n",
      "[200]\ttraining's rmse: 0.935265\tvalid_1's rmse: 1.07632\n",
      "[250]\ttraining's rmse: 0.933165\tvalid_1's rmse: 1.07434\n",
      "[300]\ttraining's rmse: 0.93159\tvalid_1's rmse: 1.07305\n",
      "Did not meet early stopping. Best iteration is:\n",
      "[300]\ttraining's rmse: 0.93159\tvalid_1's rmse: 1.07305\n",
      "Target 3 Validation NWRMSLE: 1.0757956541694773\n",
      "Target 3 Validation MSE: 1.1573362895299335\n",
      "Target 3 Validation RMSE: 1.0757956541694773\n",
      "Target 3 Validation MAE: 0.8649713695208979\n",
      "Target 3 Test NWRMSLE: 0.9966943715421099\n",
      "Target 3 Test MSE: 219.00473934704192\n",
      "Target 3 Test RMSE: 14.798808713779698\n",
      "Target 3 Test MAE: 4.772502572069732\n",
      "Target 3 Feature Importance:\n",
      "{'family': np.int32(883), 'class': np.int32(3590), 'perishable': np.int32(123), 'store_type': np.int32(1181), 'store_city': np.int32(1066), 'store_cluster': np.int32(1224), 'store_state': np.int32(933)}\n",
      "Step 3 _______________\n",
      "Training until validation scores don't improve for 50 rounds\n",
      "[50]\ttraining's rmse: 0.947795\tvalid_1's rmse: 1.14961\n",
      "[100]\ttraining's rmse: 0.937702\tvalid_1's rmse: 1.1393\n",
      "[150]\ttraining's rmse: 0.932224\tvalid_1's rmse: 1.13427\n",
      "[200]\ttraining's rmse: 0.929517\tvalid_1's rmse: 1.13142\n",
      "[250]\ttraining's rmse: 0.927312\tvalid_1's rmse: 1.12942\n",
      "[300]\ttraining's rmse: 0.925857\tvalid_1's rmse: 1.1282\n",
      "Did not meet early stopping. Best iteration is:\n",
      "[300]\ttraining's rmse: 0.925857\tvalid_1's rmse: 1.1282\n",
      "Target 4 Validation NWRMSLE: 1.131931847374878\n",
      "Target 4 Validation MSE: 1.2812697071015042\n",
      "Target 4 Validation RMSE: 1.131931847374878\n",
      "Target 4 Validation MAE: 0.9086259254360383\n",
      "Target 4 Test NWRMSLE: 0.9801593629245465\n",
      "Target 4 Test MSE: 170.31728633958298\n",
      "Target 4 Test RMSE: 13.050566514124318\n",
      "Target 4 Test MAE: 4.348230551659134\n",
      "Target 4 Feature Importance:\n",
      "{'family': np.int32(898), 'class': np.int32(3634), 'perishable': np.int32(101), 'store_type': np.int32(1167), 'store_city': np.int32(1049), 'store_cluster': np.int32(1217), 'store_state': np.int32(934)}\n",
      "Step 4 _______________\n",
      "Training until validation scores don't improve for 50 rounds\n",
      "[50]\ttraining's rmse: 0.903022\tvalid_1's rmse: 1.00941\n",
      "[100]\ttraining's rmse: 0.893786\tvalid_1's rmse: 1.00009\n",
      "[150]\ttraining's rmse: 0.88928\tvalid_1's rmse: 0.995362\n",
      "[200]\ttraining's rmse: 0.886717\tvalid_1's rmse: 0.992683\n",
      "[250]\ttraining's rmse: 0.884698\tvalid_1's rmse: 0.990818\n",
      "[300]\ttraining's rmse: 0.883397\tvalid_1's rmse: 0.989652\n",
      "Did not meet early stopping. Best iteration is:\n",
      "[300]\ttraining's rmse: 0.883397\tvalid_1's rmse: 0.989652\n",
      "Target 5 Validation NWRMSLE: 0.9944440296102358\n",
      "Target 5 Validation MSE: 0.9889189280274435\n",
      "Target 5 Validation RMSE: 0.9944440296102358\n",
      "Target 5 Validation MAE: 0.7938347152279415\n",
      "Target 5 Test NWRMSLE: 0.9707705568162106\n",
      "Target 5 Test MSE: 222.6783604500418\n",
      "Target 5 Test RMSE: 14.922411348372682\n",
      "Target 5 Test MAE: 4.446396760220592\n",
      "Target 5 Feature Importance:\n",
      "{'family': np.int32(862), 'class': np.int32(3382), 'perishable': np.int32(121), 'store_type': np.int32(1239), 'store_city': np.int32(1109), 'store_cluster': np.int32(1289), 'store_state': np.int32(998)}\n",
      "Step 5 _______________\n",
      "Training until validation scores don't improve for 50 rounds\n",
      "[50]\ttraining's rmse: 0.928798\tvalid_1's rmse: 0.984872\n",
      "[100]\ttraining's rmse: 0.918586\tvalid_1's rmse: 0.977266\n",
      "[150]\ttraining's rmse: 0.912854\tvalid_1's rmse: 0.973022\n",
      "[200]\ttraining's rmse: 0.910393\tvalid_1's rmse: 0.971383\n",
      "[250]\ttraining's rmse: 0.908421\tvalid_1's rmse: 0.969928\n",
      "[300]\ttraining's rmse: 0.906761\tvalid_1's rmse: 0.96887\n",
      "Did not meet early stopping. Best iteration is:\n",
      "[300]\ttraining's rmse: 0.906761\tvalid_1's rmse: 0.96887\n",
      "Target 6 Validation NWRMSLE: 0.9758929942045463\n",
      "Target 6 Validation MSE: 0.9523671361375147\n",
      "Target 6 Validation RMSE: 0.9758929942045463\n",
      "Target 6 Validation MAE: 0.7777166015369557\n",
      "Target 6 Test NWRMSLE: 0.9289323462764103\n",
      "Target 6 Test MSE: 154.03337843294238\n",
      "Target 6 Test RMSE: 12.411018428515138\n",
      "Target 6 Test MAE: 3.6660249999595322\n",
      "Target 6 Feature Importance:\n",
      "{'family': np.int32(889), 'class': np.int32(3401), 'perishable': np.int32(110), 'store_type': np.int32(1203), 'store_city': np.int32(1082), 'store_cluster': np.int32(1305), 'store_state': np.int32(1010)}\n",
      "Step 6 _______________\n",
      "Training until validation scores don't improve for 50 rounds\n",
      "[50]\ttraining's rmse: 1.00094\tvalid_1's rmse: 0.995746\n",
      "[100]\ttraining's rmse: 0.989014\tvalid_1's rmse: 0.987438\n",
      "[150]\ttraining's rmse: 0.983418\tvalid_1's rmse: 0.983876\n",
      "[200]\ttraining's rmse: 0.979911\tvalid_1's rmse: 0.98197\n",
      "[250]\ttraining's rmse: 0.977496\tvalid_1's rmse: 0.980842\n",
      "[300]\ttraining's rmse: 0.975567\tvalid_1's rmse: 0.97986\n",
      "Did not meet early stopping. Best iteration is:\n",
      "[300]\ttraining's rmse: 0.975567\tvalid_1's rmse: 0.97986\n",
      "Target 7 Validation NWRMSLE: 0.9856578400295545\n",
      "Target 7 Validation MSE: 0.9715213776117269\n",
      "Target 7 Validation RMSE: 0.9856578400295545\n",
      "Target 7 Validation MAE: 0.7966905794890614\n",
      "Target 7 Test NWRMSLE: 0.9743246500558385\n",
      "Target 7 Test MSE: 217.70610481656863\n",
      "Target 7 Test RMSE: 14.754867156859415\n",
      "Target 7 Test MAE: 4.25285316293222\n",
      "Target 7 Feature Importance:\n",
      "{'family': np.int32(940), 'class': np.int32(3520), 'perishable': np.int32(140), 'store_type': np.int32(1196), 'store_city': np.int32(1124), 'store_cluster': np.int32(1186), 'store_state': np.int32(894)}\n",
      "Step 7 _______________\n",
      "Training until validation scores don't improve for 50 rounds\n",
      "[50]\ttraining's rmse: 1.01562\tvalid_1's rmse: 0.984686\n",
      "[100]\ttraining's rmse: 1.00189\tvalid_1's rmse: 0.980951\n",
      "[150]\ttraining's rmse: 0.996674\tvalid_1's rmse: 0.980025\n",
      "[200]\ttraining's rmse: 0.993576\tvalid_1's rmse: 0.979933\n",
      "[250]\ttraining's rmse: 0.991572\tvalid_1's rmse: 0.979573\n",
      "[300]\ttraining's rmse: 0.990043\tvalid_1's rmse: 0.979477\n",
      "Did not meet early stopping. Best iteration is:\n",
      "[295]\ttraining's rmse: 0.990185\tvalid_1's rmse: 0.979468\n",
      "Target 8 Validation NWRMSLE: 0.9847460431490086\n",
      "Target 8 Validation MSE: 0.9697247694976292\n",
      "Target 8 Validation RMSE: 0.9847460431490086\n",
      "Target 8 Validation MAE: 0.7979623136027211\n",
      "Target 8 Test NWRMSLE: 1.0108597180668335\n",
      "Target 8 Test MSE: 265.226052856448\n",
      "Target 8 Test RMSE: 16.285762274344055\n",
      "Target 8 Test MAE: 5.012300288541487\n",
      "Target 8 Feature Importance:\n",
      "{'family': np.int32(941), 'class': np.int32(3599), 'perishable': np.int32(146), 'store_type': np.int32(1200), 'store_city': np.int32(991), 'store_cluster': np.int32(1130), 'store_state': np.int32(843)}\n",
      "Step 8 _______________\n",
      "Training until validation scores don't improve for 50 rounds\n",
      "[50]\ttraining's rmse: 0.938839\tvalid_1's rmse: 0.965459\n",
      "[100]\ttraining's rmse: 0.928561\tvalid_1's rmse: 0.958866\n",
      "[150]\ttraining's rmse: 0.923202\tvalid_1's rmse: 0.955418\n",
      "[200]\ttraining's rmse: 0.92048\tvalid_1's rmse: 0.954064\n",
      "[250]\ttraining's rmse: 0.918348\tvalid_1's rmse: 0.952946\n",
      "[300]\ttraining's rmse: 0.916972\tvalid_1's rmse: 0.952203\n",
      "Did not meet early stopping. Best iteration is:\n",
      "[300]\ttraining's rmse: 0.916972\tvalid_1's rmse: 0.952203\n",
      "Target 9 Validation NWRMSLE: 0.9575088546688186\n",
      "Target 9 Validation MSE: 0.9168232067691928\n",
      "Target 9 Validation RMSE: 0.9575088546688186\n",
      "Target 9 Validation MAE: 0.7659528077477487\n",
      "Target 9 Test NWRMSLE: 1.0464939367737607\n",
      "Target 9 Test MSE: 346.82339916102177\n",
      "Target 9 Test RMSE: 18.62319519204537\n",
      "Target 9 Test MAE: 5.634813472214938\n",
      "Target 9 Feature Importance:\n",
      "{'family': np.int32(818), 'class': np.int32(3598), 'perishable': np.int32(110), 'store_type': np.int32(1221), 'store_city': np.int32(1087), 'store_cluster': np.int32(1238), 'store_state': np.int32(928)}\n",
      "Step 9 _______________\n",
      "Training until validation scores don't improve for 50 rounds\n",
      "[50]\ttraining's rmse: 0.927612\tvalid_1's rmse: 1.03857\n",
      "[100]\ttraining's rmse: 0.917626\tvalid_1's rmse: 1.02871\n",
      "[150]\ttraining's rmse: 0.913285\tvalid_1's rmse: 1.02494\n",
      "[200]\ttraining's rmse: 0.910849\tvalid_1's rmse: 1.02304\n",
      "[250]\ttraining's rmse: 0.908829\tvalid_1's rmse: 1.0214\n",
      "[300]\ttraining's rmse: 0.90708\tvalid_1's rmse: 1.02005\n",
      "Did not meet early stopping. Best iteration is:\n",
      "[300]\ttraining's rmse: 0.90708\tvalid_1's rmse: 1.02005\n",
      "Target 10 Validation NWRMSLE: 1.0237618174845105\n",
      "Target 10 Validation MSE: 1.048088258939188\n",
      "Target 10 Validation RMSE: 1.0237618174845105\n",
      "Target 10 Validation MAE: 0.8199948750444601\n",
      "Target 10 Test NWRMSLE: 0.9547784616522104\n",
      "Target 10 Test MSE: 232.13596092981467\n",
      "Target 10 Test RMSE: 15.236008694202516\n",
      "Target 10 Test MAE: 4.179484387416076\n",
      "Target 10 Feature Importance:\n",
      "{'family': np.int32(884), 'class': np.int32(3587), 'perishable': np.int32(110), 'store_type': np.int32(1172), 'store_city': np.int32(1099), 'store_cluster': np.int32(1195), 'store_state': np.int32(953)}\n",
      "Step 10 _______________\n",
      "Training until validation scores don't improve for 50 rounds\n",
      "[50]\ttraining's rmse: 0.933431\tvalid_1's rmse: 1.09988\n",
      "[100]\ttraining's rmse: 0.922398\tvalid_1's rmse: 1.08944\n",
      "[150]\ttraining's rmse: 0.917505\tvalid_1's rmse: 1.08513\n",
      "[200]\ttraining's rmse: 0.914596\tvalid_1's rmse: 1.08263\n",
      "[250]\ttraining's rmse: 0.912505\tvalid_1's rmse: 1.08093\n",
      "[300]\ttraining's rmse: 0.911227\tvalid_1's rmse: 1.07991\n",
      "Did not meet early stopping. Best iteration is:\n",
      "[300]\ttraining's rmse: 0.911227\tvalid_1's rmse: 1.07991\n",
      "Target 11 Validation NWRMSLE: 1.0842483122632498\n",
      "Target 11 Validation MSE: 1.1755944026457057\n",
      "Target 11 Validation RMSE: 1.0842483122632498\n",
      "Target 11 Validation MAE: 0.8647325798928539\n",
      "Target 11 Test NWRMSLE: 0.9462014846619006\n",
      "Target 11 Test MSE: 198.22918498210802\n",
      "Target 11 Test RMSE: 14.079388657967646\n",
      "Target 11 Test MAE: 3.880488008499241\n",
      "Target 11 Feature Importance:\n",
      "{'family': np.int32(854), 'class': np.int32(3458), 'perishable': np.int32(116), 'store_type': np.int32(1250), 'store_city': np.int32(1050), 'store_cluster': np.int32(1314), 'store_state': np.int32(958)}\n",
      "Step 11 _______________\n",
      "Training until validation scores don't improve for 50 rounds\n",
      "[50]\ttraining's rmse: 0.892228\tvalid_1's rmse: 0.95831\n",
      "[100]\ttraining's rmse: 0.883076\tvalid_1's rmse: 0.949401\n",
      "[150]\ttraining's rmse: 0.878787\tvalid_1's rmse: 0.94529\n",
      "[200]\ttraining's rmse: 0.876249\tvalid_1's rmse: 0.942857\n",
      "[250]\ttraining's rmse: 0.874162\tvalid_1's rmse: 0.941109\n",
      "[300]\ttraining's rmse: 0.872717\tvalid_1's rmse: 0.939989\n",
      "Did not meet early stopping. Best iteration is:\n",
      "[300]\ttraining's rmse: 0.872717\tvalid_1's rmse: 0.939989\n",
      "Target 12 Validation NWRMSLE: 0.9452735519523079\n",
      "Target 12 Validation MSE: 0.8935420880205325\n",
      "Target 12 Validation RMSE: 0.9452735519523079\n",
      "Target 12 Validation MAE: 0.7536445916201449\n",
      "Target 12 Test NWRMSLE: 0.9365760739152036\n",
      "Target 12 Test MSE: 194.58017450913218\n",
      "Target 12 Test RMSE: 13.94919978024303\n",
      "Target 12 Test MAE: 3.9764174051730645\n",
      "Target 12 Feature Importance:\n",
      "{'family': np.int32(821), 'class': np.int32(3440), 'perishable': np.int32(134), 'store_type': np.int32(1244), 'store_city': np.int32(1115), 'store_cluster': np.int32(1313), 'store_state': np.int32(933)}\n",
      "Step 12 _______________\n",
      "Training until validation scores don't improve for 50 rounds\n",
      "[50]\ttraining's rmse: 0.921525\tvalid_1's rmse: 0.952664\n",
      "[100]\ttraining's rmse: 0.911785\tvalid_1's rmse: 0.946482\n",
      "[150]\ttraining's rmse: 0.906709\tvalid_1's rmse: 0.943085\n",
      "[200]\ttraining's rmse: 0.904328\tvalid_1's rmse: 0.941671\n",
      "[250]\ttraining's rmse: 0.902398\tvalid_1's rmse: 0.940568\n",
      "[300]\ttraining's rmse: 0.901043\tvalid_1's rmse: 0.939922\n",
      "Did not meet early stopping. Best iteration is:\n",
      "[300]\ttraining's rmse: 0.901043\tvalid_1's rmse: 0.939922\n",
      "Target 13 Validation NWRMSLE: 0.9472559015285539\n",
      "Target 13 Validation MSE: 0.8972937429806733\n",
      "Target 13 Validation RMSE: 0.9472559015285539\n",
      "Target 13 Validation MAE: 0.7557122692350502\n",
      "Target 13 Test NWRMSLE: 0.9159991341183815\n",
      "Target 13 Test MSE: 144.61653218534323\n",
      "Target 13 Test RMSE: 12.025661403238628\n",
      "Target 13 Test MAE: 3.398311912692105\n",
      "Target 13 Feature Importance:\n",
      "{'family': np.int32(901), 'class': np.int32(3511), 'perishable': np.int32(107), 'store_type': np.int32(1198), 'store_city': np.int32(1130), 'store_cluster': np.int32(1190), 'store_state': np.int32(963)}\n",
      "Step 13 _______________\n",
      "Training until validation scores don't improve for 50 rounds\n",
      "[50]\ttraining's rmse: 0.997355\tvalid_1's rmse: 0.988811\n",
      "[100]\ttraining's rmse: 0.985371\tvalid_1's rmse: 0.981645\n",
      "[150]\ttraining's rmse: 0.979154\tvalid_1's rmse: 0.978403\n",
      "[200]\ttraining's rmse: 0.975586\tvalid_1's rmse: 0.976834\n",
      "[250]\ttraining's rmse: 0.973354\tvalid_1's rmse: 0.976271\n",
      "[300]\ttraining's rmse: 0.971573\tvalid_1's rmse: 0.975569\n",
      "Did not meet early stopping. Best iteration is:\n",
      "[300]\ttraining's rmse: 0.971573\tvalid_1's rmse: 0.975569\n",
      "Target 14 Validation NWRMSLE: 0.9811643639709584\n",
      "Target 14 Validation MSE: 0.9626835091265354\n",
      "Target 14 Validation RMSE: 0.9811643639709584\n",
      "Target 14 Validation MAE: 0.792866825181084\n",
      "Target 14 Test NWRMSLE: 0.9774509832128101\n",
      "Target 14 Test MSE: 177.9699724847445\n",
      "Target 14 Test RMSE: 13.340538687952016\n",
      "Target 14 Test MAE: 4.0926352048183485\n",
      "Target 14 Feature Importance:\n",
      "{'family': np.int32(899), 'class': np.int32(3492), 'perishable': np.int32(134), 'store_type': np.int32(1226), 'store_city': np.int32(1167), 'store_cluster': np.int32(1188), 'store_state': np.int32(894)}\n",
      "\n",
      "Final Combined Test Metrics:\n",
      "Overall Validation NWRMSLE: 0.9867376916340093\n",
      "Overall Validation MSE: 238.1354242120661\n",
      "Overall Validation RMSE: 15.228599446045552\n",
      "Overall Validation MAE: 4.600851536720323\n"
     ]
    }
   ],
   "source": [
    "import lightgbm as lgb\n",
    "import numpy as np\n",
    "\n",
    "steps = y_train.shape[1]\n",
    "models = []\n",
    "\n",
    "total_mse, total_rmse, total_mae, total_nwrmsle = 0, 0, 0, 0\n",
    "\n",
    "for i in range(steps):\n",
    "    print(f\"Step {i} _______________\")\n",
    "\n",
    "    y_train_i = np.array(y_train[:, i]).ravel()\n",
    "    y_val_i = np.array(y_val[:, i]).ravel()\n",
    "    y_test_i = np.array(y_test[:, i]).ravel()\n",
    "\n",
    "    dtrain = lgb.Dataset(X_train, label=y_train_i)\n",
    "    dval = lgb.Dataset(X_val, label=y_val_i, reference=dtrain)\n",
    "\n",
    "    params = {\n",
    "        'objective': 'regression',\n",
    "        'metric': 'rmse',\n",
    "        'max_depth': 6,\n",
    "        'learning_rate': 0.1,\n",
    "        'subsample': 0.8,\n",
    "        'colsample_bytree': 0.8,\n",
    "        'lambda_l1': 0.01,\n",
    "        'lambda_l2': 0.01,\n",
    "        'verbose': -1\n",
    "    }\n",
    "\n",
    "    num_round = 300\n",
    "    model = lgb.train(params, dtrain, num_boost_round=num_round, \n",
    "                      valid_sets=[dtrain, dval],\n",
    "                      callbacks=[lgb.early_stopping(stopping_rounds=50), lgb.log_evaluation(50)])\n",
    "    models.append(model)\n",
    "\n",
    "    y_pred_val = model.predict(X_val)\n",
    "    y_pred_test = model.predict(X_test)\n",
    "    \n",
    "    weights = items_data_indexed[\"perishable\"].values * 0.25 + 1\n",
    "    mse, rmse, mae, nwrmsle = cal_error(y_val_i, y_pred_val, weights)\n",
    "    print(f'Target {i+1} Validation NWRMSLE: {nwrmsle}')\n",
    "    print(f'Target {i+1} Validation MSE: {mse}')\n",
    "    print(f'Target {i+1} Validation RMSE: {rmse}')\n",
    "    print(f'Target {i+1} Validation MAE: {mae}')\n",
    "\n",
    "    _, _, _, nwrmsle_test = cal_error(y_test_i, y_pred_test, weights)\n",
    "    mse_test, rmse_test, mae_test, _ = cal_error(np.clip(np.expm1(y_test_i), 0, 1000), np.clip(np.expm1(y_pred_test), 0, 1000), weights)\n",
    "    print(f'Target {i+1} Test NWRMSLE: {nwrmsle_test}')\n",
    "    print(f'Target {i+1} Test MSE: {mse_test}')\n",
    "    print(f'Target {i+1} Test RMSE: {rmse_test}')\n",
    "    print(f'Target {i+1} Test MAE: {mae_test}')\n",
    "    \n",
    "    total_mse += mse_test\n",
    "    total_rmse += rmse_test\n",
    "    total_mae += mae_test\n",
    "    total_nwrmsle += nwrmsle_test   \n",
    "\n",
    "    feature_importance = model.feature_importance(importance_type='split')\n",
    "    feature_names = X_train.columns\n",
    "    importance_dict = dict(zip(feature_names, feature_importance))\n",
    "    print(f'Target {i+1} Feature Importance:')\n",
    "    print(importance_dict)\n",
    "\n",
    "    model.save_model(f'lightgbm_baseline_model_target_{i+1}.txt')\n",
    "\n",
    "total_mse /= steps\n",
    "total_rmse /= steps\n",
    "total_mae /= steps\n",
    "total_nwrmsle /= steps\n",
    "\n",
    "print(\"\\nFinal Combined Test Metrics:\")\n",
    "print(f'Overall Validation NWRMSLE: {total_nwrmsle}')\n",
    "print(f'Overall Validation MSE: {total_mse}')\n",
    "print(f'Overall Validation RMSE: {total_rmse}')\n",
    "print(f'Overall Validation MAE: {total_mae}')"
   ]
  },
  {
   "cell_type": "markdown",
   "metadata": {},
   "source": [
    "## Load Extended Dataset"
   ]
  },
  {
   "cell_type": "code",
   "execution_count": 10,
   "metadata": {
    "colab": {
     "base_uri": "https://localhost:8080/",
     "height": 391
    },
    "id": "YrnHZJl-SGfh",
    "outputId": "c3393db2-b343-4709-9c4e-267a729a7048"
   },
   "outputs": [],
   "source": [
    "train_start_date = date(2017, 5, 8)\n",
    "val_start_date = date(2017, 7, 10)\n",
    "test_start_date = date(2017, 7, 31)\n",
    "\n",
    "X_l, y_l = [], []\n",
    "for i in range(6):\n",
    "    delta = timedelta(days = 7 * i)\n",
    "    X_tmp, y_tmp = get_extended_dataset(train_start_date + delta)\n",
    "    X_l.append(X_tmp)\n",
    "    y_l.append(y_tmp)\n",
    "\n",
    "X_train = pd.concat(X_l, axis=0)\n",
    "y_train = np.concatenate(y_l, axis=0)\n",
    "del X_l, y_l\n",
    "\n",
    "X_val, y_val = get_extended_dataset(start_date=val_start_date, num_days=14)\n",
    "X_test, y_test = get_extended_dataset(start_date=test_start_date, num_days=14)"
   ]
  },
  {
   "cell_type": "markdown",
   "metadata": {
    "id": "C7W8Oj0qPysE"
   },
   "source": [
    "# Improved XGBoost Model"
   ]
  },
  {
   "cell_type": "code",
   "execution_count": 78,
   "metadata": {},
   "outputs": [
    {
     "name": "stdout",
     "output_type": "stream",
     "text": [
      "Step 0 _______________\n"
     ]
    },
    {
     "name": "stderr",
     "output_type": "stream",
     "text": [
      "C:\\Users\\CSamarajeewa\\AppData\\Local\\Programs\\Python\\Python310\\lib\\site-packages\\xgboost\\core.py:617: FutureWarning: Pass `evals` as keyword args.\n",
      "  warnings.warn(msg, FutureWarning)\n"
     ]
    },
    {
     "name": "stdout",
     "output_type": "stream",
     "text": [
      "[0]\ttrain-rmse:1.07523\tval-rmse:1.07256\n",
      "[50]\ttrain-rmse:0.57343\tval-rmse:0.56429\n",
      "[100]\ttrain-rmse:0.56970\tval-rmse:0.56287\n",
      "[150]\ttrain-rmse:0.56710\tval-rmse:0.56247\n",
      "[200]\ttrain-rmse:0.56496\tval-rmse:0.56229\n",
      "[250]\ttrain-rmse:0.56292\tval-rmse:0.56212\n",
      "[299]\ttrain-rmse:0.56128\tval-rmse:0.56204\n",
      "Target 1 Validation NWRMSLE: 0.5633287213069865\n",
      "Target 1 Validation MSE: 0.31733924824936455\n",
      "Target 1 Validation RMSE: 0.5633287213069865\n",
      "Target 1 Validation MAE: 0.4030441473651482\n",
      "Target 1 Test NWRMSLE: 0.5762769751855532\n",
      "Target 1 Test MSE: 122.6491876607794\n",
      "Target 1 Test RMSE: 11.07470937139117\n",
      "Target 1 Test MAE: 2.5712382768024873\n",
      "Target 1 Feature Importance:\n",
      "{'family': 674.0, 'class': 1372.0, 'perishable': 92.0, 'store_type': 433.0, 'store_city': 386.0, 'store_cluster': 500.0, 'store_state': 302.0, 'day_1': 1543.0, 'mean_3': 1599.0, 'mean_7': 1455.0, 'mean_14': 1176.0, 'mean_4_dow0_sales': 1210.0, 'mean_4_dow1_sales': 1004.0, 'mean_4_dow2_sales': 901.0, 'mean_4_dow3_sales': 914.0, 'mean_4_dow4_sales': 902.0, 'mean_4_dow5_sales': 997.0, 'mean_4_dow6_sales': 997.0}\n",
      "Step 1 _______________\n"
     ]
    },
    {
     "name": "stderr",
     "output_type": "stream",
     "text": [
      "C:\\Users\\CSamarajeewa\\AppData\\Local\\Programs\\Python\\Python310\\lib\\site-packages\\xgboost\\core.py:617: FutureWarning: Pass `evals` as keyword args.\n",
      "  warnings.warn(msg, FutureWarning)\n"
     ]
    },
    {
     "name": "stdout",
     "output_type": "stream",
     "text": [
      "[0]\ttrain-rmse:1.05110\tval-rmse:1.03233\n",
      "[50]\ttrain-rmse:0.58280\tval-rmse:0.57842\n",
      "[100]\ttrain-rmse:0.57911\tval-rmse:0.57729\n",
      "[150]\ttrain-rmse:0.57642\tval-rmse:0.57680\n",
      "[200]\ttrain-rmse:0.57429\tval-rmse:0.57643\n",
      "[250]\ttrain-rmse:0.57222\tval-rmse:0.57621\n",
      "[299]\ttrain-rmse:0.57046\tval-rmse:0.57619\n",
      "Target 2 Validation NWRMSLE: 0.577365458877918\n",
      "Target 2 Validation MSE: 0.3333508731053088\n",
      "Target 2 Validation RMSE: 0.577365458877918\n",
      "Target 2 Validation MAE: 0.4129124207592396\n",
      "Target 2 Test NWRMSLE: 0.6316316293147569\n",
      "Target 2 Test MSE: 194.0319974282233\n",
      "Target 2 Test RMSE: 13.929536870557587\n",
      "Target 2 Test MAE: 3.1856662064472983\n",
      "Target 2 Feature Importance:\n",
      "{'family': 782.0, 'class': 1260.0, 'perishable': 111.0, 'store_type': 487.0, 'store_city': 466.0, 'store_cluster': 441.0, 'store_state': 252.0, 'day_1': 1266.0, 'mean_3': 1556.0, 'mean_7': 1457.0, 'mean_14': 1276.0, 'mean_4_dow0_sales': 1019.0, 'mean_4_dow1_sales': 1317.0, 'mean_4_dow2_sales': 989.0, 'mean_4_dow3_sales': 951.0, 'mean_4_dow4_sales': 958.0, 'mean_4_dow5_sales': 991.0, 'mean_4_dow6_sales': 1003.0}\n",
      "Step 2 _______________\n"
     ]
    },
    {
     "name": "stderr",
     "output_type": "stream",
     "text": [
      "C:\\Users\\CSamarajeewa\\AppData\\Local\\Programs\\Python\\Python310\\lib\\site-packages\\xgboost\\core.py:617: FutureWarning: Pass `evals` as keyword args.\n",
      "  warnings.warn(msg, FutureWarning)\n"
     ]
    },
    {
     "name": "stdout",
     "output_type": "stream",
     "text": [
      "[0]\ttrain-rmse:1.06861\tval-rmse:1.04035\n",
      "[50]\ttrain-rmse:0.58987\tval-rmse:0.57756\n",
      "[100]\ttrain-rmse:0.58614\tval-rmse:0.57672\n",
      "[150]\ttrain-rmse:0.58355\tval-rmse:0.57633\n",
      "[200]\ttrain-rmse:0.58123\tval-rmse:0.57617\n",
      "[250]\ttrain-rmse:0.57925\tval-rmse:0.57612\n",
      "[299]\ttrain-rmse:0.57739\tval-rmse:0.57611\n",
      "Target 3 Validation NWRMSLE: 0.5765034556370464\n",
      "Target 3 Validation MSE: 0.33235623436145595\n",
      "Target 3 Validation RMSE: 0.5765034556370464\n",
      "Target 3 Validation MAE: 0.41349401310575085\n",
      "Target 3 Test NWRMSLE: 0.6189215892886654\n",
      "Target 3 Test MSE: 184.40821719627863\n",
      "Target 3 Test RMSE: 13.57969871522482\n",
      "Target 3 Test MAE: 2.9979336235659773\n",
      "Target 3 Feature Importance:\n",
      "{'family': 814.0, 'class': 1249.0, 'perishable': 116.0, 'store_type': 532.0, 'store_city': 396.0, 'store_cluster': 513.0, 'store_state': 276.0, 'day_1': 1193.0, 'mean_3': 1624.0, 'mean_7': 1425.0, 'mean_14': 1245.0, 'mean_4_dow0_sales': 933.0, 'mean_4_dow1_sales': 1052.0, 'mean_4_dow2_sales': 1291.0, 'mean_4_dow3_sales': 1000.0, 'mean_4_dow4_sales': 969.0, 'mean_4_dow5_sales': 947.0, 'mean_4_dow6_sales': 1004.0}\n",
      "Step 3 _______________\n"
     ]
    },
    {
     "name": "stderr",
     "output_type": "stream",
     "text": [
      "C:\\Users\\CSamarajeewa\\AppData\\Local\\Programs\\Python\\Python310\\lib\\site-packages\\xgboost\\core.py:617: FutureWarning: Pass `evals` as keyword args.\n",
      "  warnings.warn(msg, FutureWarning)\n"
     ]
    },
    {
     "name": "stdout",
     "output_type": "stream",
     "text": [
      "[0]\ttrain-rmse:1.00162\tval-rmse:0.97450\n",
      "[50]\ttrain-rmse:0.59573\tval-rmse:0.59672\n",
      "[100]\ttrain-rmse:0.59219\tval-rmse:0.59604\n",
      "[150]\ttrain-rmse:0.58953\tval-rmse:0.59554\n",
      "[200]\ttrain-rmse:0.58732\tval-rmse:0.59530\n",
      "[250]\ttrain-rmse:0.58539\tval-rmse:0.59520\n",
      "[299]\ttrain-rmse:0.58367\tval-rmse:0.59520\n",
      "Target 4 Validation NWRMSLE: 0.5951658150376781\n",
      "Target 4 Validation MSE: 0.3542223473894636\n",
      "Target 4 Validation RMSE: 0.5951658150376781\n",
      "Target 4 Validation MAE: 0.42643695860785286\n",
      "Target 4 Test NWRMSLE: 0.6125722901718405\n",
      "Target 4 Test MSE: 87.70243245804316\n",
      "Target 4 Test RMSE: 9.364957685865065\n",
      "Target 4 Test MAE: 2.4173139067264207\n",
      "Target 4 Feature Importance:\n",
      "{'family': 638.0, 'class': 1404.0, 'perishable': 75.0, 'store_type': 374.0, 'store_city': 449.0, 'store_cluster': 406.0, 'store_state': 235.0, 'day_1': 1154.0, 'mean_3': 1613.0, 'mean_7': 1416.0, 'mean_14': 1383.0, 'mean_4_dow0_sales': 1029.0, 'mean_4_dow1_sales': 1011.0, 'mean_4_dow2_sales': 1057.0, 'mean_4_dow3_sales': 1225.0, 'mean_4_dow4_sales': 1124.0, 'mean_4_dow5_sales': 1064.0, 'mean_4_dow6_sales': 1061.0}\n",
      "Step 4 _______________\n"
     ]
    },
    {
     "name": "stderr",
     "output_type": "stream",
     "text": [
      "C:\\Users\\CSamarajeewa\\AppData\\Local\\Programs\\Python\\Python310\\lib\\site-packages\\xgboost\\core.py:617: FutureWarning: Pass `evals` as keyword args.\n",
      "  warnings.warn(msg, FutureWarning)\n"
     ]
    },
    {
     "name": "stdout",
     "output_type": "stream",
     "text": [
      "[0]\ttrain-rmse:1.09828\tval-rmse:1.05110\n",
      "[50]\ttrain-rmse:0.61368\tval-rmse:0.61027\n",
      "[100]\ttrain-rmse:0.60904\tval-rmse:0.60864\n",
      "[150]\ttrain-rmse:0.60585\tval-rmse:0.60787\n",
      "[200]\ttrain-rmse:0.60349\tval-rmse:0.60747\n",
      "[250]\ttrain-rmse:0.60150\tval-rmse:0.60739\n",
      "[299]\ttrain-rmse:0.59964\tval-rmse:0.60733\n",
      "Target 5 Validation NWRMSLE: 0.6069742193755232\n",
      "Target 5 Validation MSE: 0.3684177029865258\n",
      "Target 5 Validation RMSE: 0.6069742193755232\n",
      "Target 5 Validation MAE: 0.43467561053099985\n",
      "Target 5 Test NWRMSLE: 0.6125911388891169\n",
      "Target 5 Test MSE: 120.56494805390284\n",
      "Target 5 Test RMSE: 10.980207104326531\n",
      "Target 5 Test MAE: 2.596755719034647\n",
      "Target 5 Feature Importance:\n",
      "{'family': 695.0, 'class': 1566.0, 'perishable': 81.0, 'store_type': 527.0, 'store_city': 404.0, 'store_cluster': 414.0, 'store_state': 216.0, 'day_1': 1145.0, 'mean_3': 1618.0, 'mean_7': 1359.0, 'mean_14': 1400.0, 'mean_4_dow0_sales': 1037.0, 'mean_4_dow1_sales': 976.0, 'mean_4_dow2_sales': 1015.0, 'mean_4_dow3_sales': 1037.0, 'mean_4_dow4_sales': 1409.0, 'mean_4_dow5_sales': 1104.0, 'mean_4_dow6_sales': 939.0}\n",
      "Step 5 _______________\n"
     ]
    },
    {
     "name": "stderr",
     "output_type": "stream",
     "text": [
      "C:\\Users\\CSamarajeewa\\AppData\\Local\\Programs\\Python\\Python310\\lib\\site-packages\\xgboost\\core.py:617: FutureWarning: Pass `evals` as keyword args.\n",
      "  warnings.warn(msg, FutureWarning)\n"
     ]
    },
    {
     "name": "stdout",
     "output_type": "stream",
     "text": [
      "[0]\ttrain-rmse:1.21071\tval-rmse:1.16098\n",
      "[50]\ttrain-rmse:0.61916\tval-rmse:0.61925\n",
      "[80]\ttrain-rmse:0.61682\tval-rmse:0.61916\n",
      "Target 6 Validation NWRMSLE: 0.6180849106839756\n",
      "Target 6 Validation MSE: 0.38202895681521815\n",
      "Target 6 Validation RMSE: 0.6180849106839756\n",
      "Target 6 Validation MAE: 0.43938463010692647\n",
      "Target 6 Test NWRMSLE: 0.6157439841175318\n",
      "Target 6 Test MSE: 90.39351627333117\n",
      "Target 6 Test RMSE: 9.507550487550995\n",
      "Target 6 Test MAE: 2.788768087195805\n",
      "Target 6 Feature Importance:\n",
      "{'family': 172.0, 'class': 474.0, 'perishable': 19.0, 'store_type': 172.0, 'store_city': 127.0, 'store_cluster': 106.0, 'store_state': 130.0, 'day_1': 368.0, 'mean_3': 564.0, 'mean_7': 350.0, 'mean_14': 405.0, 'mean_4_dow0_sales': 266.0, 'mean_4_dow1_sales': 171.0, 'mean_4_dow2_sales': 201.0, 'mean_4_dow3_sales': 227.0, 'mean_4_dow4_sales': 286.0, 'mean_4_dow5_sales': 448.0, 'mean_4_dow6_sales': 294.0}\n",
      "Step 6 _______________\n"
     ]
    },
    {
     "name": "stderr",
     "output_type": "stream",
     "text": [
      "C:\\Users\\CSamarajeewa\\AppData\\Local\\Programs\\Python\\Python310\\lib\\site-packages\\xgboost\\core.py:617: FutureWarning: Pass `evals` as keyword args.\n",
      "  warnings.warn(msg, FutureWarning)\n"
     ]
    },
    {
     "name": "stdout",
     "output_type": "stream",
     "text": [
      "[0]\ttrain-rmse:1.23270\tval-rmse:1.22132\n",
      "[50]\ttrain-rmse:0.63121\tval-rmse:0.62954\n",
      "[100]\ttrain-rmse:0.62658\tval-rmse:0.62804\n",
      "[150]\ttrain-rmse:0.62338\tval-rmse:0.62795\n",
      "[184]\ttrain-rmse:0.62153\tval-rmse:0.62796\n",
      "Target 7 Validation NWRMSLE: 0.6271409554560369\n",
      "Target 7 Validation MSE: 0.39330577801031086\n",
      "Target 7 Validation RMSE: 0.6271409554560369\n",
      "Target 7 Validation MAE: 0.4475254876449036\n",
      "Target 7 Test NWRMSLE: 0.6236638886818421\n",
      "Target 7 Test MSE: 111.59917350150057\n",
      "Target 7 Test RMSE: 10.564050998622667\n",
      "Target 7 Test MAE: 2.9891358215394805\n",
      "Target 7 Feature Importance:\n",
      "{'family': 430.0, 'class': 1020.0, 'perishable': 56.0, 'store_type': 351.0, 'store_city': 359.0, 'store_cluster': 323.0, 'store_state': 214.0, 'day_1': 874.0, 'mean_3': 1054.0, 'mean_7': 924.0, 'mean_14': 710.0, 'mean_4_dow0_sales': 630.0, 'mean_4_dow1_sales': 582.0, 'mean_4_dow2_sales': 534.0, 'mean_4_dow3_sales': 459.0, 'mean_4_dow4_sales': 527.0, 'mean_4_dow5_sales': 596.0, 'mean_4_dow6_sales': 812.0}\n",
      "Step 7 _______________\n"
     ]
    },
    {
     "name": "stderr",
     "output_type": "stream",
     "text": [
      "C:\\Users\\CSamarajeewa\\AppData\\Local\\Programs\\Python\\Python310\\lib\\site-packages\\xgboost\\core.py:617: FutureWarning: Pass `evals` as keyword args.\n",
      "  warnings.warn(msg, FutureWarning)\n"
     ]
    },
    {
     "name": "stdout",
     "output_type": "stream",
     "text": [
      "[0]\ttrain-rmse:1.08140\tval-rmse:1.08901\n",
      "[50]\ttrain-rmse:0.61729\tval-rmse:0.62356\n",
      "[100]\ttrain-rmse:0.61323\tval-rmse:0.62295\n",
      "[150]\ttrain-rmse:0.61055\tval-rmse:0.62274\n",
      "[200]\ttrain-rmse:0.60834\tval-rmse:0.62274\n",
      "[250]\ttrain-rmse:0.60624\tval-rmse:0.62277\n",
      "[273]\ttrain-rmse:0.60528\tval-rmse:0.62276\n",
      "Target 8 Validation NWRMSLE: 0.6231104315888177\n",
      "Target 8 Validation MSE: 0.3882666099548028\n",
      "Target 8 Validation RMSE: 0.6231104315888177\n",
      "Target 8 Validation MAE: 0.4475072647571423\n",
      "Target 8 Test NWRMSLE: 0.6203587677681055\n",
      "Target 8 Test MSE: 84.60547437457252\n",
      "Target 8 Test RMSE: 9.19812341592417\n",
      "Target 8 Test MAE: 2.524284592355385\n",
      "Target 8 Feature Importance:\n",
      "{'family': 647.0, 'class': 1482.0, 'perishable': 87.0, 'store_type': 361.0, 'store_city': 335.0, 'store_cluster': 404.0, 'store_state': 254.0, 'day_1': 1113.0, 'mean_3': 1366.0, 'mean_7': 1252.0, 'mean_14': 1173.0, 'mean_4_dow0_sales': 1199.0, 'mean_4_dow1_sales': 1032.0, 'mean_4_dow2_sales': 910.0, 'mean_4_dow3_sales': 889.0, 'mean_4_dow4_sales': 828.0, 'mean_4_dow5_sales': 878.0, 'mean_4_dow6_sales': 925.0}\n",
      "Step 8 _______________\n"
     ]
    },
    {
     "name": "stderr",
     "output_type": "stream",
     "text": [
      "C:\\Users\\CSamarajeewa\\AppData\\Local\\Programs\\Python\\Python310\\lib\\site-packages\\xgboost\\core.py:617: FutureWarning: Pass `evals` as keyword args.\n",
      "  warnings.warn(msg, FutureWarning)\n"
     ]
    },
    {
     "name": "stdout",
     "output_type": "stream",
     "text": [
      "[0]\ttrain-rmse:1.06079\tval-rmse:1.03888\n",
      "[50]\ttrain-rmse:0.61637\tval-rmse:0.62124\n",
      "[100]\ttrain-rmse:0.61265\tval-rmse:0.62088\n",
      "[150]\ttrain-rmse:0.60986\tval-rmse:0.62073\n",
      "[200]\ttrain-rmse:0.60740\tval-rmse:0.62064\n",
      "[248]\ttrain-rmse:0.60538\tval-rmse:0.62081\n",
      "Target 9 Validation NWRMSLE: 0.6212104208721028\n",
      "Target 9 Validation MSE: 0.385902387000095\n",
      "Target 9 Validation RMSE: 0.6212104208721028\n",
      "Target 9 Validation MAE: 0.4452898049401812\n",
      "Target 9 Test NWRMSLE: 0.6141805021457051\n",
      "Target 9 Test MSE: 77.73261185670727\n",
      "Target 9 Test RMSE: 8.816609997992838\n",
      "Target 9 Test MAE: 2.3247405074346155\n",
      "Target 9 Feature Importance:\n",
      "{'family': 735.0, 'class': 1251.0, 'perishable': 90.0, 'store_type': 435.0, 'store_city': 335.0, 'store_cluster': 373.0, 'store_state': 219.0, 'day_1': 956.0, 'mean_3': 1279.0, 'mean_7': 1218.0, 'mean_14': 1061.0, 'mean_4_dow0_sales': 920.0, 'mean_4_dow1_sales': 1068.0, 'mean_4_dow2_sales': 814.0, 'mean_4_dow3_sales': 811.0, 'mean_4_dow4_sales': 757.0, 'mean_4_dow5_sales': 725.0, 'mean_4_dow6_sales': 770.0}\n",
      "Step 9 _______________\n"
     ]
    },
    {
     "name": "stderr",
     "output_type": "stream",
     "text": [
      "C:\\Users\\CSamarajeewa\\AppData\\Local\\Programs\\Python\\Python310\\lib\\site-packages\\xgboost\\core.py:617: FutureWarning: Pass `evals` as keyword args.\n",
      "  warnings.warn(msg, FutureWarning)\n"
     ]
    },
    {
     "name": "stdout",
     "output_type": "stream",
     "text": [
      "[0]\ttrain-rmse:1.07287\tval-rmse:1.05281\n",
      "[50]\ttrain-rmse:0.61846\tval-rmse:0.62187\n",
      "[100]\ttrain-rmse:0.61471\tval-rmse:0.62099\n",
      "[150]\ttrain-rmse:0.61171\tval-rmse:0.62084\n",
      "[200]\ttrain-rmse:0.60942\tval-rmse:0.62066\n",
      "[250]\ttrain-rmse:0.60717\tval-rmse:0.62075\n",
      "[253]\ttrain-rmse:0.60703\tval-rmse:0.62074\n",
      "Target 10 Validation NWRMSLE: 0.6205580107668613\n",
      "Target 10 Validation MSE: 0.38509224472692394\n",
      "Target 10 Validation RMSE: 0.6205580107668613\n",
      "Target 10 Validation MAE: 0.44478595980189906\n",
      "Target 10 Test NWRMSLE: 0.6119276805157468\n",
      "Target 10 Test MSE: 74.85352711815723\n",
      "Target 10 Test RMSE: 8.651793289148628\n",
      "Target 10 Test MAE: 2.3366514575035366\n",
      "Target 10 Feature Importance:\n",
      "{'family': 750.0, 'class': 1237.0, 'perishable': 99.0, 'store_type': 488.0, 'store_city': 325.0, 'store_cluster': 403.0, 'store_state': 203.0, 'day_1': 891.0, 'mean_3': 1299.0, 'mean_7': 1238.0, 'mean_14': 1183.0, 'mean_4_dow0_sales': 914.0, 'mean_4_dow1_sales': 927.0, 'mean_4_dow2_sales': 1126.0, 'mean_4_dow3_sales': 823.0, 'mean_4_dow4_sales': 788.0, 'mean_4_dow5_sales': 773.0, 'mean_4_dow6_sales': 823.0}\n",
      "Step 10 _______________\n"
     ]
    },
    {
     "name": "stderr",
     "output_type": "stream",
     "text": [
      "C:\\Users\\CSamarajeewa\\AppData\\Local\\Programs\\Python\\Python310\\lib\\site-packages\\xgboost\\core.py:617: FutureWarning: Pass `evals` as keyword args.\n",
      "  warnings.warn(msg, FutureWarning)\n"
     ]
    },
    {
     "name": "stdout",
     "output_type": "stream",
     "text": [
      "[0]\ttrain-rmse:1.00186\tval-rmse:1.01774\n",
      "[50]\ttrain-rmse:0.61463\tval-rmse:0.61932\n",
      "[100]\ttrain-rmse:0.61075\tval-rmse:0.61858\n",
      "[150]\ttrain-rmse:0.60808\tval-rmse:0.61858\n",
      "[200]\ttrain-rmse:0.60570\tval-rmse:0.61855\n",
      "[214]\ttrain-rmse:0.60518\tval-rmse:0.61859\n",
      "Target 11 Validation NWRMSLE: 0.6181445796866046\n",
      "Target 11 Validation MSE: 0.38210272139592916\n",
      "Target 11 Validation RMSE: 0.6181445796866046\n",
      "Target 11 Validation MAE: 0.4481701872802823\n",
      "Target 11 Test NWRMSLE: 0.6165290777251291\n",
      "Target 11 Test MSE: 86.3803491957878\n",
      "Target 11 Test RMSE: 9.294102925822793\n",
      "Target 11 Test MAE: 2.241575832419469\n",
      "Target 11 Feature Importance:\n",
      "{'family': 532.0, 'class': 1102.0, 'perishable': 76.0, 'store_type': 260.0, 'store_city': 301.0, 'store_cluster': 291.0, 'store_state': 156.0, 'day_1': 785.0, 'mean_3': 1151.0, 'mean_7': 1015.0, 'mean_14': 1095.0, 'mean_4_dow0_sales': 765.0, 'mean_4_dow1_sales': 770.0, 'mean_4_dow2_sales': 764.0, 'mean_4_dow3_sales': 928.0, 'mean_4_dow4_sales': 705.0, 'mean_4_dow5_sales': 724.0, 'mean_4_dow6_sales': 675.0}\n",
      "Step 11 _______________\n"
     ]
    },
    {
     "name": "stderr",
     "output_type": "stream",
     "text": [
      "C:\\Users\\CSamarajeewa\\AppData\\Local\\Programs\\Python\\Python310\\lib\\site-packages\\xgboost\\core.py:617: FutureWarning: Pass `evals` as keyword args.\n",
      "  warnings.warn(msg, FutureWarning)\n"
     ]
    },
    {
     "name": "stdout",
     "output_type": "stream",
     "text": [
      "[0]\ttrain-rmse:1.10117\tval-rmse:1.06037\n",
      "[50]\ttrain-rmse:0.63467\tval-rmse:0.62776\n",
      "[100]\ttrain-rmse:0.63037\tval-rmse:0.62708\n",
      "[150]\ttrain-rmse:0.62719\tval-rmse:0.62665\n",
      "[200]\ttrain-rmse:0.62463\tval-rmse:0.62660\n",
      "[250]\ttrain-rmse:0.62243\tval-rmse:0.62655\n",
      "[284]\ttrain-rmse:0.62103\tval-rmse:0.62660\n",
      "Target 12 Validation NWRMSLE: 0.6262500118596966\n",
      "Target 12 Validation MSE: 0.39218907735427017\n",
      "Target 12 Validation RMSE: 0.6262500118596966\n",
      "Target 12 Validation MAE: 0.45120874495194757\n",
      "Target 12 Test NWRMSLE: 0.6384261078578239\n",
      "Target 12 Test MSE: 107.69027355474597\n",
      "Target 12 Test RMSE: 10.377392425592566\n",
      "Target 12 Test MAE: 2.669475051608406\n",
      "Target 12 Feature Importance:\n",
      "{'family': 699.0, 'class': 1593.0, 'perishable': 122.0, 'store_type': 535.0, 'store_city': 379.0, 'store_cluster': 409.0, 'store_state': 227.0, 'day_1': 911.0, 'mean_3': 1492.0, 'mean_7': 1294.0, 'mean_14': 1314.0, 'mean_4_dow0_sales': 918.0, 'mean_4_dow1_sales': 998.0, 'mean_4_dow2_sales': 970.0, 'mean_4_dow3_sales': 953.0, 'mean_4_dow4_sales': 1353.0, 'mean_4_dow5_sales': 1029.0, 'mean_4_dow6_sales': 847.0}\n",
      "Step 12 _______________\n"
     ]
    },
    {
     "name": "stderr",
     "output_type": "stream",
     "text": [
      "C:\\Users\\CSamarajeewa\\AppData\\Local\\Programs\\Python\\Python310\\lib\\site-packages\\xgboost\\core.py:617: FutureWarning: Pass `evals` as keyword args.\n",
      "  warnings.warn(msg, FutureWarning)\n"
     ]
    },
    {
     "name": "stdout",
     "output_type": "stream",
     "text": [
      "[0]\ttrain-rmse:1.20215\tval-rmse:1.14272\n",
      "[50]\ttrain-rmse:0.63987\tval-rmse:0.63981\n",
      "[78]\ttrain-rmse:0.63731\tval-rmse:0.63975\n",
      "Target 13 Validation NWRMSLE: 0.6386541668331336\n",
      "Target 13 Validation MSE: 0.40787914481332405\n",
      "Target 13 Validation RMSE: 0.6386541668331336\n",
      "Target 13 Validation MAE: 0.45785429632476893\n",
      "Target 13 Test NWRMSLE: 0.6405825480178681\n",
      "Target 13 Test MSE: 108.04624911166763\n",
      "Target 13 Test RMSE: 10.39452976866523\n",
      "Target 13 Test MAE: 2.5600959053914805\n",
      "Target 13 Feature Importance:\n",
      "{'family': 180.0, 'class': 508.0, 'perishable': 44.0, 'store_type': 175.0, 'store_city': 145.0, 'store_cluster': 99.0, 'store_state': 120.0, 'day_1': 393.0, 'mean_3': 496.0, 'mean_7': 358.0, 'mean_14': 376.0, 'mean_4_dow0_sales': 258.0, 'mean_4_dow1_sales': 208.0, 'mean_4_dow2_sales': 217.0, 'mean_4_dow3_sales': 196.0, 'mean_4_dow4_sales': 246.0, 'mean_4_dow5_sales': 393.0, 'mean_4_dow6_sales': 292.0}\n",
      "Step 13 _______________\n"
     ]
    },
    {
     "name": "stderr",
     "output_type": "stream",
     "text": [
      "C:\\Users\\CSamarajeewa\\AppData\\Local\\Programs\\Python\\Python310\\lib\\site-packages\\xgboost\\core.py:617: FutureWarning: Pass `evals` as keyword args.\n",
      "  warnings.warn(msg, FutureWarning)\n"
     ]
    },
    {
     "name": "stdout",
     "output_type": "stream",
     "text": [
      "[0]\ttrain-rmse:1.24966\tval-rmse:1.18706\n",
      "[50]\ttrain-rmse:0.65184\tval-rmse:0.64766\n",
      "[78]\ttrain-rmse:0.64838\tval-rmse:0.64866\n",
      "Target 14 Validation NWRMSLE: 0.6479118770487472\n",
      "Target 14 Validation MSE: 0.41978980042083086\n",
      "Target 14 Validation RMSE: 0.6479118770487472\n",
      "Target 14 Validation MAE: 0.46480203939288567\n",
      "Target 14 Test NWRMSLE: 0.638604706847995\n",
      "Target 14 Test MSE: 103.77989000250729\n",
      "Target 14 Test RMSE: 10.187241530586546\n",
      "Target 14 Test MAE: 2.691031251673653\n",
      "Target 14 Feature Importance:\n",
      "{'family': 185.0, 'class': 618.0, 'perishable': 42.0, 'store_type': 233.0, 'store_city': 176.0, 'store_cluster': 183.0, 'store_state': 124.0, 'day_1': 415.0, 'mean_3': 411.0, 'mean_7': 347.0, 'mean_14': 313.0, 'mean_4_dow0_sales': 353.0, 'mean_4_dow1_sales': 251.0, 'mean_4_dow2_sales': 189.0, 'mean_4_dow3_sales': 152.0, 'mean_4_dow4_sales': 156.0, 'mean_4_dow5_sales': 256.0, 'mean_4_dow6_sales': 417.0}\n",
      "\n",
      "Final Combined Test Metrics:\n",
      "Overall Validation NWRMSLE: 0.6194293490376914\n",
      "Overall Validation MSE: 111.03127484187179\n",
      "Overall Validation RMSE: 10.422893184805115\n",
      "Overall Validation MAE: 2.635333302835618\n"
     ]
    }
   ],
   "source": [
    "import xgboost as xgb\n",
    "import numpy as np\n",
    "\n",
    "num_targets = y_train.shape[1]\n",
    "models = []\n",
    "\n",
    "total_mse, total_rmse, total_mae, total_nwrmsle = 0, 0, 0, 0\n",
    "\n",
    "for i in range(num_targets):\n",
    "\n",
    "    print(f\"Step {i} _______________\")\n",
    "\n",
    "    y_train_i = np.array(y_train[:, i]).ravel()\n",
    "    y_val_i = np.array(y_val[:, i]).ravel()\n",
    "    y_test_i = np.array(y_test[:, i]).ravel()\n",
    "\n",
    "    dtrain = xgb.DMatrix(X_train, label=y_train_i)\n",
    "    dval = xgb.DMatrix(X_val, label=y_val_i)\n",
    "    dtest = xgb.DMatrix(X_test, label=y_test_i)\n",
    "\n",
    "    params = {\n",
    "        'objective': 'reg:squarederror',\n",
    "        'eval_metric': 'rmse',\n",
    "        'max_depth': 6,\n",
    "        'learning_rate': 0.1,\n",
    "        'subsample': 0.8,\n",
    "        'colsample_bytree': 0.8,\n",
    "        'alpha': 0.01,\n",
    "        'lambda': 0.01,\n",
    "    }\n",
    "\n",
    "    watchlist = [(dtrain, 'train'), (dval, 'val')]\n",
    "\n",
    "    num_round = 300\n",
    "    model = xgb.train(params, dtrain, num_round, watchlist, early_stopping_rounds=50, verbose_eval=50)\n",
    "    models.append(model)\n",
    "\n",
    "    y_pred_val = model.predict(dval)\n",
    "    y_pred_test = model.predict(dtest)\n",
    "    \n",
    "    weights = items_data_indexed[\"perishable\"].values * 0.25 + 1\n",
    "    mse, rmse, mae, nwrmsle = cal_error(y_val_i, y_pred_val, weights)\n",
    "    print(f'Target {i+1} Validation NWRMSLE: {nwrmsle}')\n",
    "    print(f'Target {i+1} Validation MSE: {mse}')\n",
    "    print(f'Target {i+1} Validation RMSE: {rmse}')\n",
    "    print(f'Target {i+1} Validation MAE: {mae}')\n",
    "\n",
    "    _, _, _, nwrmsle_test = cal_error(y_test_i, y_pred_test, weights)\n",
    "    mse_test, rmse_test, mae_test, _ = cal_error(np.clip(np.expm1(y_test_i), 0, 1000), np.clip(np.expm1(y_pred_test), 0, 1000), weights)\n",
    "    print(f'Target {i+1} Test NWRMSLE: {nwrmsle_test}')\n",
    "    print(f'Target {i+1} Test MSE: {mse_test}')\n",
    "    print(f'Target {i+1} Test RMSE: {rmse_test}')\n",
    "    print(f'Target {i+1} Test MAE: {mae_test}')\n",
    "    \n",
    "    total_mse += mse_test\n",
    "    total_rmse += rmse_test\n",
    "    total_mae += mae_test\n",
    "    total_nwrmsle += nwrmsle_test   \n",
    "\n",
    "    feature_importance = model.get_score(importance_type='weight')\n",
    "    print(f'Target {i+1} Feature Importance:')\n",
    "    print(feature_importance)\n",
    "\n",
    "    model.save_model(f'xgboost_improved_model_target_{i+1}.model')\n",
    "\n",
    "total_mse /= num_targets\n",
    "total_rmse /= num_targets\n",
    "total_mae /= num_targets\n",
    "total_nwrmsle /= num_targets\n",
    "\n",
    "print(\"\\nFinal Combined Test Metrics:\")\n",
    "print(f'Overall Validation NWRMSLE: {total_nwrmsle}')\n",
    "print(f'Overall Validation MSE: {total_mse}')\n",
    "print(f'Overall Validation RMSE: {total_rmse}')\n",
    "print(f'Overall Validation MAE: {total_mae}')"
   ]
  },
  {
   "cell_type": "code",
   "execution_count": 23,
   "metadata": {},
   "outputs": [
    {
     "data": {
      "image/png": "[encoded data removed]",
      "text/plain": [
       "<Figure size 1000x600 with 1 Axes>"
      ]
     },
     "metadata": {},
     "output_type": "display_data"
    }
   ],
   "source": [
    "sorted_features = sorted(feature_importance.items(), key=lambda x: x[1], reverse=True)\n",
    "features, importance = zip(*sorted_features)\n",
    "\n",
    "plt.figure(figsize=(10, 6))\n",
    "plt.barh(features, importance)\n",
    "plt.xlabel('Feature Importance')\n",
    "plt.title('Feature Importance (Weight) for XGBoost Model')\n",
    "plt.gca().invert_yaxis()\n",
    "plt.show()"
   ]
  },
  {
   "cell_type": "markdown",
   "metadata": {},
   "source": [
    "# Improved LightGBM Model"
   ]
  },
  {
   "cell_type": "code",
   "execution_count": 17,
   "metadata": {},
   "outputs": [
    {
     "name": "stdout",
     "output_type": "stream",
     "text": [
      "Step 0 _______________\n",
      "Training until validation scores don't improve for 50 rounds\n",
      "[50]\ttraining's rmse: 0.576263\tvalid_1's rmse: 0.565285\n",
      "[100]\ttraining's rmse: 0.572732\tvalid_1's rmse: 0.563543\n",
      "[150]\ttraining's rmse: 0.570662\tvalid_1's rmse: 0.562779\n",
      "[200]\ttraining's rmse: 0.569027\tvalid_1's rmse: 0.562423\n",
      "[250]\ttraining's rmse: 0.567621\tvalid_1's rmse: 0.562246\n",
      "[300]\ttraining's rmse: 0.566367\tvalid_1's rmse: 0.562069\n",
      "Did not meet early stopping. Best iteration is:\n",
      "[291]\ttraining's rmse: 0.566563\tvalid_1's rmse: 0.562049\n",
      "Target 1 Validation NWRMSLE: 0.5633251194434669\n",
      "Target 1 Validation MSE: 0.31733519019599626\n",
      "Target 1 Validation RMSE: 0.5633251194434669\n",
      "Target 1 Validation MAE: 0.4032463706190959\n",
      "Target 1 Test NWRMSLE: 0.5763087119263364\n",
      "Target 1 Test MSE: 128.05178443901073\n",
      "Target 1 Test RMSE: 11.315996838061185\n",
      "Target 1 Test MAE: 2.598500214377816\n",
      "Target 1 Feature Importance:\n",
      "{'family': np.int32(260), 'class': np.int32(860), 'perishable': np.int32(65), 'store_type': np.int32(168), 'store_city': np.int32(181), 'store_cluster': np.int32(237), 'store_state': np.int32(168), 'day_1': np.int32(922), 'mean_3': np.int32(836), 'mean_7': np.int32(744), 'mean_14': np.int32(657), 'mean_4_dow0_sales': np.int32(659), 'mean_4_dow1_sales': np.int32(570), 'mean_4_dow2_sales': np.int32(513), 'mean_4_dow3_sales': np.int32(426), 'mean_4_dow4_sales': np.int32(412), 'mean_4_dow5_sales': np.int32(501), 'mean_4_dow6_sales': np.int32(545)}\n",
      "Step 1 _______________\n",
      "Training until validation scores don't improve for 50 rounds\n",
      "[50]\ttraining's rmse: 0.585294\tvalid_1's rmse: 0.578812\n",
      "[100]\ttraining's rmse: 0.582175\tvalid_1's rmse: 0.577357\n",
      "[150]\ttraining's rmse: 0.580101\tvalid_1's rmse: 0.57677\n",
      "[200]\ttraining's rmse: 0.57852\tvalid_1's rmse: 0.576426\n",
      "[250]\ttraining's rmse: 0.577123\tvalid_1's rmse: 0.576197\n",
      "[300]\ttraining's rmse: 0.575872\tvalid_1's rmse: 0.575997\n",
      "Did not meet early stopping. Best iteration is:\n",
      "[300]\ttraining's rmse: 0.575872\tvalid_1's rmse: 0.575997\n",
      "Target 2 Validation NWRMSLE: 0.5771444950219783\n",
      "Target 2 Validation MSE: 0.33309576813417435\n",
      "Target 2 Validation RMSE: 0.5771444950219783\n",
      "Target 2 Validation MAE: 0.4130812345069297\n",
      "Target 2 Test NWRMSLE: 0.6312123029548804\n",
      "Target 2 Test MSE: 191.18763523482647\n",
      "Target 2 Test RMSE: 13.82706169924856\n",
      "Target 2 Test MAE: 3.1926359085702356\n",
      "Target 2 Feature Importance:\n",
      "{'family': np.int32(351), 'class': np.int32(768), 'perishable': np.int32(65), 'store_type': np.int32(271), 'store_city': np.int32(205), 'store_cluster': np.int32(228), 'store_state': np.int32(147), 'day_1': np.int32(745), 'mean_3': np.int32(829), 'mean_7': np.int32(771), 'mean_14': np.int32(659), 'mean_4_dow0_sales': np.int32(549), 'mean_4_dow1_sales': np.int32(761), 'mean_4_dow2_sales': np.int32(566), 'mean_4_dow3_sales': np.int32(515), 'mean_4_dow4_sales': np.int32(461), 'mean_4_dow5_sales': np.int32(503), 'mean_4_dow6_sales': np.int32(544)}\n",
      "Step 2 _______________\n",
      "Training until validation scores don't improve for 50 rounds\n",
      "[50]\ttraining's rmse: 0.592613\tvalid_1's rmse: 0.578317\n",
      "[100]\ttraining's rmse: 0.589371\tvalid_1's rmse: 0.576873\n",
      "[150]\ttraining's rmse: 0.587231\tvalid_1's rmse: 0.576289\n",
      "[200]\ttraining's rmse: 0.585574\tvalid_1's rmse: 0.57615\n",
      "[250]\ttraining's rmse: 0.584171\tvalid_1's rmse: 0.575985\n",
      "[300]\ttraining's rmse: 0.582855\tvalid_1's rmse: 0.575821\n",
      "Did not meet early stopping. Best iteration is:\n",
      "[294]\ttraining's rmse: 0.582992\tvalid_1's rmse: 0.575805\n",
      "Target 3 Validation NWRMSLE: 0.5762160988064798\n",
      "Target 3 Validation MSE: 0.33202499252375894\n",
      "Target 3 Validation RMSE: 0.5762160988064798\n",
      "Target 3 Validation MAE: 0.41332856121771033\n",
      "Target 3 Test NWRMSLE: 0.6185561445603471\n",
      "Target 3 Test MSE: 184.65959714033272\n",
      "Target 3 Test RMSE: 13.588951289203031\n",
      "Target 3 Test MAE: 3.006891147817942\n",
      "Target 3 Feature Importance:\n",
      "{'family': np.int32(327), 'class': np.int32(772), 'perishable': np.int32(66), 'store_type': np.int32(249), 'store_city': np.int32(197), 'store_cluster': np.int32(250), 'store_state': np.int32(149), 'day_1': np.int32(684), 'mean_3': np.int32(794), 'mean_7': np.int32(769), 'mean_14': np.int32(675), 'mean_4_dow0_sales': np.int32(473), 'mean_4_dow1_sales': np.int32(520), 'mean_4_dow2_sales': np.int32(792), 'mean_4_dow3_sales': np.int32(510), 'mean_4_dow4_sales': np.int32(526), 'mean_4_dow5_sales': np.int32(523), 'mean_4_dow6_sales': np.int32(496)}\n",
      "Step 3 _______________\n",
      "Training until validation scores don't improve for 50 rounds\n",
      "[50]\ttraining's rmse: 0.598222\tvalid_1's rmse: 0.597296\n",
      "[100]\ttraining's rmse: 0.595229\tvalid_1's rmse: 0.596339\n",
      "[150]\ttraining's rmse: 0.593227\tvalid_1's rmse: 0.595682\n",
      "[200]\ttraining's rmse: 0.591558\tvalid_1's rmse: 0.595224\n",
      "[250]\ttraining's rmse: 0.59023\tvalid_1's rmse: 0.595072\n",
      "[300]\ttraining's rmse: 0.58893\tvalid_1's rmse: 0.594952\n",
      "Did not meet early stopping. Best iteration is:\n",
      "[300]\ttraining's rmse: 0.58893\tvalid_1's rmse: 0.594952\n",
      "Target 4 Validation NWRMSLE: 0.5949110079153008\n",
      "Target 4 Validation MSE: 0.3539191073387991\n",
      "Target 4 Validation RMSE: 0.5949110079153008\n",
      "Target 4 Validation MAE: 0.4262381485724119\n",
      "Target 4 Test NWRMSLE: 0.612378244122811\n",
      "Target 4 Test MSE: 87.50520683165854\n",
      "Target 4 Test RMSE: 9.354421779653649\n",
      "Target 4 Test MAE: 2.4207919870640473\n",
      "Target 4 Feature Importance:\n",
      "{'family': np.int32(233), 'class': np.int32(910), 'perishable': np.int32(51), 'store_type': np.int32(158), 'store_city': np.int32(225), 'store_cluster': np.int32(205), 'store_state': np.int32(141), 'day_1': np.int32(678), 'mean_3': np.int32(845), 'mean_7': np.int32(723), 'mean_14': np.int32(748), 'mean_4_dow0_sales': np.int32(503), 'mean_4_dow1_sales': np.int32(589), 'mean_4_dow2_sales': np.int32(589), 'mean_4_dow3_sales': np.int32(739), 'mean_4_dow4_sales': np.int32(574), 'mean_4_dow5_sales': np.int32(582), 'mean_4_dow6_sales': np.int32(492)}\n",
      "Step 4 _______________\n",
      "Training until validation scores don't improve for 50 rounds\n",
      "[50]\ttraining's rmse: 0.616467\tvalid_1's rmse: 0.611244\n",
      "[100]\ttraining's rmse: 0.612606\tvalid_1's rmse: 0.609128\n",
      "[150]\ttraining's rmse: 0.610263\tvalid_1's rmse: 0.608309\n",
      "[200]\ttraining's rmse: 0.608396\tvalid_1's rmse: 0.607838\n",
      "[250]\ttraining's rmse: 0.606853\tvalid_1's rmse: 0.60757\n",
      "[300]\ttraining's rmse: 0.605385\tvalid_1's rmse: 0.607287\n",
      "Did not meet early stopping. Best iteration is:\n",
      "[300]\ttraining's rmse: 0.605385\tvalid_1's rmse: 0.607287\n",
      "Target 5 Validation NWRMSLE: 0.6068776751711645\n",
      "Target 5 Validation MSE: 0.36830051262115754\n",
      "Target 5 Validation RMSE: 0.6068776751711645\n",
      "Target 5 Validation MAE: 0.43481462412073807\n",
      "Target 5 Test NWRMSLE: 0.6123859412605357\n",
      "Target 5 Test MSE: 113.56866604952893\n",
      "Target 5 Test RMSE: 10.656860046445619\n",
      "Target 5 Test MAE: 2.600266695777406\n",
      "Target 5 Feature Importance:\n",
      "{'family': np.int32(323), 'class': np.int32(1003), 'perishable': np.int32(70), 'store_type': np.int32(255), 'store_city': np.int32(187), 'store_cluster': np.int32(173), 'store_state': np.int32(100), 'day_1': np.int32(702), 'mean_3': np.int32(852), 'mean_7': np.int32(709), 'mean_14': np.int32(703), 'mean_4_dow0_sales': np.int32(509), 'mean_4_dow1_sales': np.int32(503), 'mean_4_dow2_sales': np.int32(542), 'mean_4_dow3_sales': np.int32(500), 'mean_4_dow4_sales': np.int32(797), 'mean_4_dow5_sales': np.int32(566), 'mean_4_dow6_sales': np.int32(493)}\n",
      "Step 5 _______________\n",
      "Training until validation scores don't improve for 50 rounds\n",
      "[50]\ttraining's rmse: 0.621735\tvalid_1's rmse: 0.620113\n",
      "[100]\ttraining's rmse: 0.618686\tvalid_1's rmse: 0.619425\n",
      "[150]\ttraining's rmse: 0.616719\tvalid_1's rmse: 0.618879\n",
      "[200]\ttraining's rmse: 0.614935\tvalid_1's rmse: 0.618467\n",
      "[250]\ttraining's rmse: 0.613383\tvalid_1's rmse: 0.618376\n",
      "[300]\ttraining's rmse: 0.612032\tvalid_1's rmse: 0.618233\n",
      "Did not meet early stopping. Best iteration is:\n",
      "[299]\ttraining's rmse: 0.612049\tvalid_1's rmse: 0.618228\n",
      "Target 6 Validation NWRMSLE: 0.6172307541205527\n",
      "Target 6 Validation MSE: 0.3809738038322262\n",
      "Target 6 Validation RMSE: 0.6172307541205527\n",
      "Target 6 Validation MAE: 0.438940972036253\n",
      "Target 6 Test NWRMSLE: 0.6144289879120894\n",
      "Target 6 Test MSE: 92.01512784295059\n",
      "Target 6 Test RMSE: 9.592451607537596\n",
      "Target 6 Test MAE: 2.7882308138975493\n",
      "Target 6 Feature Importance:\n",
      "{'family': np.int32(295), 'class': np.int32(836), 'perishable': np.int32(45), 'store_type': np.int32(195), 'store_city': np.int32(196), 'store_cluster': np.int32(199), 'store_state': np.int32(199), 'day_1': np.int32(707), 'mean_3': np.int32(844), 'mean_7': np.int32(748), 'mean_14': np.int32(723), 'mean_4_dow0_sales': np.int32(555), 'mean_4_dow1_sales': np.int32(510), 'mean_4_dow2_sales': np.int32(543), 'mean_4_dow3_sales': np.int32(479), 'mean_4_dow4_sales': np.int32(561), 'mean_4_dow5_sales': np.int32(762), 'mean_4_dow6_sales': np.int32(565)}\n",
      "Step 6 _______________\n",
      "Training until validation scores don't improve for 50 rounds\n",
      "[50]\ttraining's rmse: 0.633683\tvalid_1's rmse: 0.630252\n",
      "[100]\ttraining's rmse: 0.629761\tvalid_1's rmse: 0.62855\n",
      "[150]\ttraining's rmse: 0.62714\tvalid_1's rmse: 0.627945\n",
      "[200]\ttraining's rmse: 0.625186\tvalid_1's rmse: 0.627706\n",
      "[250]\ttraining's rmse: 0.623589\tvalid_1's rmse: 0.62753\n",
      "[300]\ttraining's rmse: 0.622049\tvalid_1's rmse: 0.627566\n",
      "Did not meet early stopping. Best iteration is:\n",
      "[291]\ttraining's rmse: 0.62239\tvalid_1's rmse: 0.627524\n",
      "Target 7 Validation NWRMSLE: 0.6266897925985798\n",
      "Target 7 Validation MSE: 0.392740096147251\n",
      "Target 7 Validation RMSE: 0.6266897925985798\n",
      "Target 7 Validation MAE: 0.44725087725362933\n",
      "Target 7 Test NWRMSLE: 0.6231218762337228\n",
      "Target 7 Test MSE: 112.35279157119999\n",
      "Target 7 Test RMSE: 10.59965997431993\n",
      "Target 7 Test MAE: 2.992344157416072\n",
      "Target 7 Feature Importance:\n",
      "{'family': np.int32(287), 'class': np.int32(953), 'perishable': np.int32(53), 'store_type': np.int32(241), 'store_city': np.int32(267), 'store_cluster': np.int32(253), 'store_state': np.int32(237), 'day_1': np.int32(723), 'mean_3': np.int32(777), 'mean_7': np.int32(704), 'mean_14': np.int32(570), 'mean_4_dow0_sales': np.int32(586), 'mean_4_dow1_sales': np.int32(508), 'mean_4_dow2_sales': np.int32(483), 'mean_4_dow3_sales': np.int32(345), 'mean_4_dow4_sales': np.int32(465), 'mean_4_dow5_sales': np.int32(499), 'mean_4_dow6_sales': np.int32(758)}\n",
      "Step 7 _______________\n",
      "Training until validation scores don't improve for 50 rounds\n",
      "[50]\ttraining's rmse: 0.61987\tvalid_1's rmse: 0.624115\n",
      "[100]\ttraining's rmse: 0.616406\tvalid_1's rmse: 0.622908\n",
      "[150]\ttraining's rmse: 0.614236\tvalid_1's rmse: 0.62245\n",
      "[200]\ttraining's rmse: 0.61246\tvalid_1's rmse: 0.622263\n",
      "[250]\ttraining's rmse: 0.610969\tvalid_1's rmse: 0.622249\n",
      "Early stopping, best iteration is:\n",
      "[222]\ttraining's rmse: 0.611796\tvalid_1's rmse: 0.622187\n",
      "Target 8 Validation NWRMSLE: 0.6225101590324157\n",
      "Target 8 Validation MSE: 0.38751889809856344\n",
      "Target 8 Validation RMSE: 0.6225101590324157\n",
      "Target 8 Validation MAE: 0.44753998471882084\n",
      "Target 8 Test NWRMSLE: 0.6204854590453704\n",
      "Target 8 Test MSE: 91.45752905510413\n",
      "Target 8 Test RMSE: 9.56334298533228\n",
      "Target 8 Test MAE: 2.547931378930319\n",
      "Target 8 Feature Importance:\n",
      "{'family': np.int32(225), 'class': np.int32(874), 'perishable': np.int32(53), 'store_type': np.int32(119), 'store_city': np.int32(115), 'store_cluster': np.int32(173), 'store_state': np.int32(141), 'day_1': np.int32(483), 'mean_3': np.int32(548), 'mean_7': np.int32(529), 'mean_14': np.int32(533), 'mean_4_dow0_sales': np.int32(557), 'mean_4_dow1_sales': np.int32(445), 'mean_4_dow2_sales': np.int32(381), 'mean_4_dow3_sales': np.int32(350), 'mean_4_dow4_sales': np.int32(352), 'mean_4_dow5_sales': np.int32(360), 'mean_4_dow6_sales': np.int32(412)}\n",
      "Step 8 _______________\n",
      "Training until validation scores don't improve for 50 rounds\n",
      "[50]\ttraining's rmse: 0.618796\tvalid_1's rmse: 0.621551\n",
      "[100]\ttraining's rmse: 0.615667\tvalid_1's rmse: 0.620904\n",
      "[150]\ttraining's rmse: 0.613478\tvalid_1's rmse: 0.620662\n",
      "[200]\ttraining's rmse: 0.611852\tvalid_1's rmse: 0.620541\n",
      "[250]\ttraining's rmse: 0.610393\tvalid_1's rmse: 0.620357\n",
      "[300]\ttraining's rmse: 0.609006\tvalid_1's rmse: 0.620259\n",
      "Did not meet early stopping. Best iteration is:\n",
      "[300]\ttraining's rmse: 0.609006\tvalid_1's rmse: 0.620259\n",
      "Target 9 Validation NWRMSLE: 0.6205870982427557\n",
      "Target 9 Validation MSE: 0.38512834650536376\n",
      "Target 9 Validation RMSE: 0.6205870982427557\n",
      "Target 9 Validation MAE: 0.44498816315705003\n",
      "Target 9 Test NWRMSLE: 0.6138803544865717\n",
      "Target 9 Test MSE: 78.46141796344622\n",
      "Target 9 Test RMSE: 8.85784499545156\n",
      "Target 9 Test MAE: 2.326986469276633\n",
      "Target 9 Feature Importance:\n",
      "{'family': np.int32(416), 'class': np.int32(942), 'perishable': np.int32(65), 'store_type': np.int32(280), 'store_city': np.int32(219), 'store_cluster': np.int32(202), 'store_state': np.int32(139), 'day_1': np.int32(606), 'mean_3': np.int32(760), 'mean_7': np.int32(691), 'mean_14': np.int32(701), 'mean_4_dow0_sales': np.int32(569), 'mean_4_dow1_sales': np.int32(757), 'mean_4_dow2_sales': np.int32(545), 'mean_4_dow3_sales': np.int32(503), 'mean_4_dow4_sales': np.int32(553), 'mean_4_dow5_sales': np.int32(493), 'mean_4_dow6_sales': np.int32(541)}\n",
      "Step 9 _______________\n",
      "Training until validation scores don't improve for 50 rounds\n",
      "[50]\ttraining's rmse: 0.621084\tvalid_1's rmse: 0.622645\n",
      "[100]\ttraining's rmse: 0.617728\tvalid_1's rmse: 0.621422\n",
      "[150]\ttraining's rmse: 0.615549\tvalid_1's rmse: 0.621012\n",
      "[200]\ttraining's rmse: 0.613751\tvalid_1's rmse: 0.620801\n",
      "[250]\ttraining's rmse: 0.612089\tvalid_1's rmse: 0.620649\n",
      "[300]\ttraining's rmse: 0.610665\tvalid_1's rmse: 0.620689\n",
      "Did not meet early stopping. Best iteration is:\n",
      "[284]\ttraining's rmse: 0.611171\tvalid_1's rmse: 0.620614\n",
      "Target 10 Validation NWRMSLE: 0.6204117499043946\n",
      "Target 10 Validation MSE: 0.3849107394194331\n",
      "Target 10 Validation RMSE: 0.6204117499043946\n",
      "Target 10 Validation MAE: 0.44503897292287964\n",
      "Target 10 Test NWRMSLE: 0.612181156890203\n",
      "Target 10 Test MSE: 72.87697646969808\n",
      "Target 10 Test RMSE: 8.536801301992337\n",
      "Target 10 Test MAE: 2.3399058241989863\n",
      "Target 10 Feature Importance:\n",
      "{'family': np.int32(373), 'class': np.int32(872), 'perishable': np.int32(79), 'store_type': np.int32(280), 'store_city': np.int32(192), 'store_cluster': np.int32(247), 'store_state': np.int32(104), 'day_1': np.int32(511), 'mean_3': np.int32(700), 'mean_7': np.int32(656), 'mean_14': np.int32(688), 'mean_4_dow0_sales': np.int32(553), 'mean_4_dow1_sales': np.int32(557), 'mean_4_dow2_sales': np.int32(805), 'mean_4_dow3_sales': np.int32(448), 'mean_4_dow4_sales': np.int32(478), 'mean_4_dow5_sales': np.int32(472), 'mean_4_dow6_sales': np.int32(480)}\n",
      "Step 10 _______________\n",
      "Training until validation scores don't improve for 50 rounds\n",
      "[50]\ttraining's rmse: 0.617143\tvalid_1's rmse: 0.619578\n",
      "[100]\ttraining's rmse: 0.613946\tvalid_1's rmse: 0.6186\n",
      "[150]\ttraining's rmse: 0.611799\tvalid_1's rmse: 0.618214\n",
      "[200]\ttraining's rmse: 0.609987\tvalid_1's rmse: 0.618169\n",
      "[250]\ttraining's rmse: 0.608529\tvalid_1's rmse: 0.618136\n",
      "Early stopping, best iteration is:\n",
      "[240]\ttraining's rmse: 0.608783\tvalid_1's rmse: 0.618105\n",
      "Target 11 Validation NWRMSLE: 0.6176715165052425\n",
      "Target 11 Validation MSE: 0.3815181023018861\n",
      "Target 11 Validation RMSE: 0.6176715165052425\n",
      "Target 11 Validation MAE: 0.44809516806348354\n",
      "Target 11 Test NWRMSLE: 0.6160096923730424\n",
      "Target 11 Test MSE: 86.43106867730786\n",
      "Target 11 Test RMSE: 9.296831109432281\n",
      "Target 11 Test MAE: 2.2456410121265895\n",
      "Target 11 Feature Importance:\n",
      "{'family': np.int32(250), 'class': np.int32(783), 'perishable': np.int32(64), 'store_type': np.int32(112), 'store_city': np.int32(174), 'store_cluster': np.int32(178), 'store_state': np.int32(124), 'day_1': np.int32(445), 'mean_3': np.int32(601), 'mean_7': np.int32(567), 'mean_14': np.int32(654), 'mean_4_dow0_sales': np.int32(470), 'mean_4_dow1_sales': np.int32(440), 'mean_4_dow2_sales': np.int32(441), 'mean_4_dow3_sales': np.int32(583), 'mean_4_dow4_sales': np.int32(431), 'mean_4_dow5_sales': np.int32(461), 'mean_4_dow6_sales': np.int32(413)}\n",
      "Step 11 _______________\n",
      "Training until validation scores don't improve for 50 rounds\n",
      "[50]\ttraining's rmse: 0.63758\tvalid_1's rmse: 0.62789\n",
      "[100]\ttraining's rmse: 0.633744\tvalid_1's rmse: 0.6266\n",
      "[150]\ttraining's rmse: 0.631381\tvalid_1's rmse: 0.625991\n",
      "[200]\ttraining's rmse: 0.629459\tvalid_1's rmse: 0.625638\n",
      "[250]\ttraining's rmse: 0.627825\tvalid_1's rmse: 0.625539\n",
      "[300]\ttraining's rmse: 0.62643\tvalid_1's rmse: 0.625595\n",
      "Did not meet early stopping. Best iteration is:\n",
      "[272]\ttraining's rmse: 0.627169\tvalid_1's rmse: 0.625494\n",
      "Target 12 Validation NWRMSLE: 0.6250494419460524\n",
      "Target 12 Validation MSE: 0.39068680487707147\n",
      "Target 12 Validation RMSE: 0.6250494419460524\n",
      "Target 12 Validation MAE: 0.4505309518220089\n",
      "Target 12 Test NWRMSLE: 0.6380411810746031\n",
      "Target 12 Test MSE: 109.27639413392549\n",
      "Target 12 Test RMSE: 10.453535006586312\n",
      "Target 12 Test MAE: 2.677986869523496\n",
      "Target 12 Feature Importance:\n",
      "{'family': np.int32(336), 'class': np.int32(960), 'perishable': np.int32(75), 'store_type': np.int32(266), 'store_city': np.int32(165), 'store_cluster': np.int32(176), 'store_state': np.int32(120), 'day_1': np.int32(483), 'mean_3': np.int32(670), 'mean_7': np.int32(628), 'mean_14': np.int32(634), 'mean_4_dow0_sales': np.int32(484), 'mean_4_dow1_sales': np.int32(462), 'mean_4_dow2_sales': np.int32(522), 'mean_4_dow3_sales': np.int32(475), 'mean_4_dow4_sales': np.int32(725), 'mean_4_dow5_sales': np.int32(552), 'mean_4_dow6_sales': np.int32(412)}\n",
      "Step 12 _______________\n",
      "Training until validation scores don't improve for 50 rounds\n",
      "[50]\ttraining's rmse: 0.642088\tvalid_1's rmse: 0.640624\n",
      "[100]\ttraining's rmse: 0.638779\tvalid_1's rmse: 0.639773\n",
      "[150]\ttraining's rmse: 0.636495\tvalid_1's rmse: 0.639274\n",
      "[200]\ttraining's rmse: 0.634767\tvalid_1's rmse: 0.639068\n",
      "[250]\ttraining's rmse: 0.633052\tvalid_1's rmse: 0.639151\n",
      "Early stopping, best iteration is:\n",
      "[201]\ttraining's rmse: 0.634731\tvalid_1's rmse: 0.639061\n",
      "Target 13 Validation NWRMSLE: 0.6380043296684401\n",
      "Target 13 Validation MSE: 0.4070495246756756\n",
      "Target 13 Validation RMSE: 0.6380043296684401\n",
      "Target 13 Validation MAE: 0.45727145959242826\n",
      "Target 13 Test NWRMSLE: 0.6399391964516838\n",
      "Target 13 Test MSE: 106.8152290217744\n",
      "Target 13 Test RMSE: 10.335145331429763\n",
      "Target 13 Test MAE: 2.559400673957181\n",
      "Target 13 Feature Importance:\n",
      "{'family': np.int32(228), 'class': np.int32(713), 'perishable': np.int32(49), 'store_type': np.int32(168), 'store_city': np.int32(171), 'store_cluster': np.int32(139), 'store_state': np.int32(142), 'day_1': np.int32(419), 'mean_3': np.int32(498), 'mean_7': np.int32(472), 'mean_14': np.int32(491), 'mean_4_dow0_sales': np.int32(367), 'mean_4_dow1_sales': np.int32(311), 'mean_4_dow2_sales': np.int32(308), 'mean_4_dow3_sales': np.int32(289), 'mean_4_dow4_sales': np.int32(351), 'mean_4_dow5_sales': np.int32(521), 'mean_4_dow6_sales': np.int32(363)}\n",
      "Step 13 _______________\n",
      "Training until validation scores don't improve for 50 rounds\n",
      "[50]\ttraining's rmse: 0.65505\tvalid_1's rmse: 0.648265\n",
      "Early stopping, best iteration is:\n",
      "[40]\ttraining's rmse: 0.656633\tvalid_1's rmse: 0.648172\n",
      "Target 14 Validation NWRMSLE: 0.6472851560855872\n",
      "Target 14 Validation MSE: 0.4189780732887431\n",
      "Target 14 Validation RMSE: 0.6472851560855872\n",
      "Target 14 Validation MAE: 0.4685522344431599\n",
      "Target 14 Test NWRMSLE: 0.6381858915281166\n",
      "Target 14 Test MSE: 104.03619476726747\n",
      "Target 14 Test RMSE: 10.199813467278089\n",
      "Target 14 Test MAE: 2.6775591795356517\n",
      "Target 14 Feature Importance:\n",
      "{'family': np.int32(37), 'class': np.int32(121), 'perishable': np.int32(15), 'store_type': np.int32(92), 'store_city': np.int32(49), 'store_cluster': np.int32(52), 'store_state': np.int32(52), 'day_1': np.int32(129), 'mean_3': np.int32(80), 'mean_7': np.int32(87), 'mean_14': np.int32(54), 'mean_4_dow0_sales': np.int32(129), 'mean_4_dow1_sales': np.int32(46), 'mean_4_dow2_sales': np.int32(15), 'mean_4_dow3_sales': np.int32(8), 'mean_4_dow4_sales': np.int32(4), 'mean_4_dow5_sales': np.int32(72), 'mean_4_dow6_sales': np.int32(158)}\n",
      "\n",
      "Final Combined Test Metrics:\n",
      "Overall Validation NWRMSLE: 0.6190796529157367\n",
      "Overall Validation MSE: 111.33540137128799\n",
      "Overall Validation RMSE: 10.441336959426584\n",
      "Overall Validation MAE: 2.641076595176423\n"
     ]
    }
   ],
   "source": [
    "import lightgbm as lgb\n",
    "import numpy as np\n",
    "\n",
    "steps = y_train.shape[1]\n",
    "models = []\n",
    "\n",
    "total_mse, total_rmse, total_mae, total_nwrmsle = 0, 0, 0, 0\n",
    "\n",
    "for i in range(steps):\n",
    "    print(f\"Step {i} _______________\")\n",
    "\n",
    "    y_train_i = np.array(y_train[:, i]).ravel()\n",
    "    y_val_i = np.array(y_val[:, i]).ravel()\n",
    "    y_test_i = np.array(y_test[:, i]).ravel()\n",
    "\n",
    "    dtrain = lgb.Dataset(X_train, label=y_train_i)\n",
    "    dval = lgb.Dataset(X_val, label=y_val_i, reference=dtrain)\n",
    "\n",
    "    params = {\n",
    "        'objective': 'regression',\n",
    "        'metric': 'rmse',\n",
    "        'max_depth': 6,\n",
    "        'learning_rate': 0.1,\n",
    "        'subsample': 0.8,\n",
    "        'colsample_bytree': 0.8,\n",
    "        'lambda_l1': 0.01,\n",
    "        'lambda_l2': 0.01,\n",
    "        'verbose': -1\n",
    "    }\n",
    "\n",
    "    num_round = 300\n",
    "    model = lgb.train(params, dtrain, num_boost_round=num_round, \n",
    "                      valid_sets=[dtrain, dval],\n",
    "                      callbacks=[lgb.early_stopping(stopping_rounds=50), lgb.log_evaluation(50)])\n",
    "    models.append(model)\n",
    "\n",
    "    y_pred_val = model.predict(X_val)\n",
    "    y_pred_test = model.predict(X_test)\n",
    "    \n",
    "    weights = items_data_indexed[\"perishable\"].values * 0.25 + 1\n",
    "    mse, rmse, mae, nwrmsle = cal_error(y_val_i, y_pred_val, weights)\n",
    "    print(f'Target {i+1} Validation NWRMSLE: {nwrmsle}')\n",
    "    print(f'Target {i+1} Validation MSE: {mse}')\n",
    "    print(f'Target {i+1} Validation RMSE: {rmse}')\n",
    "    print(f'Target {i+1} Validation MAE: {mae}')\n",
    "\n",
    "    _, _, _, nwrmsle_test = cal_error(y_test_i, y_pred_test, weights)\n",
    "    mse_test, rmse_test, mae_test, _ = cal_error(np.clip(np.expm1(y_test_i), 0, 1000), np.clip(np.expm1(y_pred_test), 0, 1000), weights)\n",
    "    print(f'Target {i+1} Test NWRMSLE: {nwrmsle_test}')\n",
    "    print(f'Target {i+1} Test MSE: {mse_test}')\n",
    "    print(f'Target {i+1} Test RMSE: {rmse_test}')\n",
    "    print(f'Target {i+1} Test MAE: {mae_test}')\n",
    "    \n",
    "    total_mse += mse_test\n",
    "    total_rmse += rmse_test\n",
    "    total_mae += mae_test\n",
    "    total_nwrmsle += nwrmsle_test   \n",
    "\n",
    "    feature_importance = model.feature_importance(importance_type='split')\n",
    "    feature_names = X_train.columns\n",
    "    importance_dict = dict(zip(feature_names, feature_importance))\n",
    "    print(f'Target {i+1} Feature Importance:')\n",
    "    print(importance_dict)\n",
    "\n",
    "    model.save_model(f'lightgbm_improved_model_target_{i+1}.txt')\n",
    "\n",
    "total_mse /= steps\n",
    "total_rmse /= steps\n",
    "total_mae /= steps\n",
    "total_nwrmsle /= steps\n",
    "\n",
    "print(\"\\nFinal Combined Test Metrics:\")\n",
    "print(f'Overall Validation NWRMSLE: {total_nwrmsle}')\n",
    "print(f'Overall Validation MSE: {total_mse}')\n",
    "print(f'Overall Validation RMSE: {total_rmse}')\n",
    "print(f'Overall Validation MAE: {total_mae}')"
   ]
  },
  {
   "cell_type": "code",
   "execution_count": 23,
   "metadata": {},
   "outputs": [
    {
     "data": {
      "text/plain": [
       "[('mean_4_dow4_sales', np.int32(4)),\n",
       " ('mean_4_dow3_sales', np.int32(8)),\n",
       " ('perishable', np.int32(15)),\n",
       " ('mean_4_dow2_sales', np.int32(15)),\n",
       " ('family', np.int32(37)),\n",
       " ('mean_4_dow1_sales', np.int32(46)),\n",
       " ('store_city', np.int32(49)),\n",
       " ('store_cluster', np.int32(52)),\n",
       " ('store_state', np.int32(52)),\n",
       " ('mean_14', np.int32(54)),\n",
       " ('mean_4_dow5_sales', np.int32(72)),\n",
       " ('mean_3', np.int32(80)),\n",
       " ('mean_7', np.int32(87)),\n",
       " ('store_type', np.int32(92)),\n",
       " ('class', np.int32(121)),\n",
       " ('day_1', np.int32(129)),\n",
       " ('mean_4_dow0_sales', np.int32(129)),\n",
       " ('mean_4_dow6_sales', np.int32(158))]"
      ]
     },
     "execution_count": 23,
     "metadata": {},
     "output_type": "execute_result"
    }
   ],
   "source": [
    "sorted_importance = sorted(importance_dict.items(), key=lambda item: item[1])\n",
    "sorted_importance"
   ]
  },
  {
   "cell_type": "code",
   "execution_count": 25,
   "metadata": {},
   "outputs": [
    {
     "data": {
      "image/png": "[encoded data removed]",
      "text/plain": [
       "<Figure size 1000x600 with 1 Axes>"
      ]
     },
     "metadata": {},
     "output_type": "display_data"
    }
   ],
   "source": [
    "sorted_importance = sorted(importance_dict.items(), key=lambda item: item[1], reverse=True)\n",
    "\n",
    "features, importance = [item[0] for item in sorted_importance], [item[1] for item in sorted_importance]\n",
    "\n",
    "plt.figure(figsize=(10, 6))\n",
    "plt.barh(features, importance)\n",
    "plt.xlabel('Feature Importance')\n",
    "plt.title('Feature Importance (Weight) for LightGBM Model')\n",
    "plt.gca().invert_yaxis()\n",
    "plt.show()"
   ]
  },
  {
   "cell_type": "markdown",
   "metadata": {},
   "source": [
    "## LSTM Model"
   ]
  },
  {
   "cell_type": "code",
   "execution_count": 11,
   "metadata": {},
   "outputs": [],
   "source": [
    "class LSTMModel(nn.Module):\n",
    "    def __init__(self, input_size, hidden_size, num_layers, num_targets):\n",
    "        super(LSTMModel, self).__init__()\n",
    "        self.lstm = nn.LSTM(input_size, hidden_size, num_layers, batch_first=True)\n",
    "        self.dropout = nn.Dropout(0.2)\n",
    "        self.fc = nn.Linear(hidden_size, num_targets)\n",
    "    \n",
    "    def forward(self, x):\n",
    "        lstm_out, _ = self.lstm(x)\n",
    "        lstm_out = self.dropout(lstm_out[:, -1, :])\n",
    "        return self.fc(lstm_out)\n",
    "\n",
    "input_size = 1  \n",
    "hidden_size = 16\n",
    "num_layers = 2\n",
    "num_targets = 14 \n",
    "epochs = 50\n",
    "\n",
    "device = torch.device(\"cuda\" if torch.cuda.is_available() else \"cpu\")\n",
    "\n",
    "def reshape_for_lstm(X):\n",
    "    return np.expand_dims(X, axis=-1)"
   ]
  },
  {
   "cell_type": "code",
   "execution_count": 12,
   "metadata": {},
   "outputs": [],
   "source": [
    "scaler = StandardScaler()\n",
    "X_train_scaled = scaler.fit_transform(X_train)\n",
    "X_val_scaled = scaler.transform(X_val)\n",
    "X_test_scaled = scaler.transform(X_test)\n",
    "\n",
    "X_train_lstm = reshape_for_lstm(X_train_scaled)\n",
    "X_val_lstm = reshape_for_lstm(X_val_scaled)\n",
    "X_test_lstm = reshape_for_lstm(X_test_scaled)\n",
    "\n",
    "X_train_tensor = torch.tensor(X_train_lstm, dtype=torch.float32).to(device)\n",
    "y_train_tensor = torch.tensor(y_train, dtype=torch.float32).to(device)\n",
    "X_val_tensor = torch.tensor(X_val_lstm, dtype=torch.float32).to(device)\n",
    "y_val_tensor = torch.tensor(y_val, dtype=torch.float32).to(device)\n",
    "X_test_tensor = torch.tensor(X_test_lstm, dtype=torch.float32).to(device)\n",
    "y_test_tensor = torch.tensor(y_test, dtype=torch.float32).to(device)"
   ]
  },
  {
   "cell_type": "code",
   "execution_count": 12,
   "metadata": {},
   "outputs": [
    {
     "name": "stderr",
     "output_type": "stream",
     "text": [
      "100%|██████████| 65507/65507 [02:11<00:00, 498.93it/s]\n"
     ]
    },
    {
     "name": "stdout",
     "output_type": "stream",
     "text": [
      "Epoch 1/50, Loss: 0.4141\n"
     ]
    },
    {
     "name": "stderr",
     "output_type": "stream",
     "text": [
      "100%|██████████| 65507/65507 [02:09<00:00, 504.07it/s]\n"
     ]
    },
    {
     "name": "stdout",
     "output_type": "stream",
     "text": [
      "Epoch 2/50, Loss: 0.4054\n"
     ]
    },
    {
     "name": "stderr",
     "output_type": "stream",
     "text": [
      "100%|██████████| 65507/65507 [02:09<00:00, 505.49it/s]\n"
     ]
    },
    {
     "name": "stdout",
     "output_type": "stream",
     "text": [
      "Epoch 3/50, Loss: 0.4040\n"
     ]
    },
    {
     "name": "stderr",
     "output_type": "stream",
     "text": [
      "100%|██████████| 65507/65507 [02:09<00:00, 504.06it/s]\n"
     ]
    },
    {
     "name": "stdout",
     "output_type": "stream",
     "text": [
      "Epoch 4/50, Loss: 0.4032\n"
     ]
    },
    {
     "name": "stderr",
     "output_type": "stream",
     "text": [
      "100%|██████████| 65507/65507 [02:09<00:00, 505.50it/s]\n"
     ]
    },
    {
     "name": "stdout",
     "output_type": "stream",
     "text": [
      "Epoch 5/50, Loss: 0.4025\n"
     ]
    },
    {
     "name": "stderr",
     "output_type": "stream",
     "text": [
      "100%|██████████| 65507/65507 [02:17<00:00, 476.01it/s]\n"
     ]
    },
    {
     "name": "stdout",
     "output_type": "stream",
     "text": [
      "Epoch 6/50, Loss: 0.4020\n"
     ]
    },
    {
     "name": "stderr",
     "output_type": "stream",
     "text": [
      "100%|██████████| 65507/65507 [02:16<00:00, 480.53it/s]\n"
     ]
    },
    {
     "name": "stdout",
     "output_type": "stream",
     "text": [
      "Epoch 7/50, Loss: 0.4017\n"
     ]
    },
    {
     "name": "stderr",
     "output_type": "stream",
     "text": [
      "100%|██████████| 65507/65507 [02:16<00:00, 481.54it/s]\n"
     ]
    },
    {
     "name": "stdout",
     "output_type": "stream",
     "text": [
      "Epoch 8/50, Loss: 0.4015\n"
     ]
    },
    {
     "name": "stderr",
     "output_type": "stream",
     "text": [
      "100%|██████████| 65507/65507 [02:11<00:00, 497.59it/s]\n"
     ]
    },
    {
     "name": "stdout",
     "output_type": "stream",
     "text": [
      "Epoch 9/50, Loss: 0.4013\n"
     ]
    },
    {
     "name": "stderr",
     "output_type": "stream",
     "text": [
      "100%|██████████| 65507/65507 [02:09<00:00, 505.82it/s]\n"
     ]
    },
    {
     "name": "stdout",
     "output_type": "stream",
     "text": [
      "Epoch 10/50, Loss: 0.4009\n"
     ]
    },
    {
     "name": "stderr",
     "output_type": "stream",
     "text": [
      "100%|██████████| 65507/65507 [02:09<00:00, 505.86it/s]\n"
     ]
    },
    {
     "name": "stdout",
     "output_type": "stream",
     "text": [
      "Epoch 11/50, Loss: 0.4008\n"
     ]
    },
    {
     "name": "stderr",
     "output_type": "stream",
     "text": [
      "100%|██████████| 65507/65507 [02:18<00:00, 473.88it/s]\n"
     ]
    },
    {
     "name": "stdout",
     "output_type": "stream",
     "text": [
      "Epoch 12/50, Loss: 0.4005\n"
     ]
    },
    {
     "name": "stderr",
     "output_type": "stream",
     "text": [
      "100%|██████████| 65507/65507 [02:14<00:00, 488.14it/s]\n"
     ]
    },
    {
     "name": "stdout",
     "output_type": "stream",
     "text": [
      "Epoch 13/50, Loss: 0.4003\n"
     ]
    },
    {
     "name": "stderr",
     "output_type": "stream",
     "text": [
      "100%|██████████| 65507/65507 [02:13<00:00, 489.88it/s]\n"
     ]
    },
    {
     "name": "stdout",
     "output_type": "stream",
     "text": [
      "Epoch 14/50, Loss: 0.4001\n"
     ]
    },
    {
     "name": "stderr",
     "output_type": "stream",
     "text": [
      "100%|██████████| 65507/65507 [02:23<00:00, 457.99it/s]\n"
     ]
    },
    {
     "name": "stdout",
     "output_type": "stream",
     "text": [
      "Epoch 15/50, Loss: 0.4000\n"
     ]
    },
    {
     "name": "stderr",
     "output_type": "stream",
     "text": [
      "100%|██████████| 65507/65507 [02:11<00:00, 497.09it/s]\n"
     ]
    },
    {
     "name": "stdout",
     "output_type": "stream",
     "text": [
      "Epoch 16/50, Loss: 0.3998\n"
     ]
    },
    {
     "name": "stderr",
     "output_type": "stream",
     "text": [
      "100%|██████████| 65507/65507 [02:12<00:00, 494.15it/s]\n"
     ]
    },
    {
     "name": "stdout",
     "output_type": "stream",
     "text": [
      "Epoch 17/50, Loss: 0.3997\n"
     ]
    },
    {
     "name": "stderr",
     "output_type": "stream",
     "text": [
      "100%|██████████| 65507/65507 [02:15<00:00, 483.39it/s]\n"
     ]
    },
    {
     "name": "stdout",
     "output_type": "stream",
     "text": [
      "Epoch 18/50, Loss: 0.3996\n"
     ]
    },
    {
     "name": "stderr",
     "output_type": "stream",
     "text": [
      "100%|██████████| 65507/65507 [02:14<00:00, 485.50it/s]\n"
     ]
    },
    {
     "name": "stdout",
     "output_type": "stream",
     "text": [
      "Epoch 19/50, Loss: 0.3994\n"
     ]
    },
    {
     "name": "stderr",
     "output_type": "stream",
     "text": [
      "100%|██████████| 65507/65507 [02:13<00:00, 489.20it/s]\n"
     ]
    },
    {
     "name": "stdout",
     "output_type": "stream",
     "text": [
      "Epoch 20/50, Loss: 0.3993\n"
     ]
    },
    {
     "name": "stderr",
     "output_type": "stream",
     "text": [
      "100%|██████████| 65507/65507 [02:12<00:00, 494.83it/s]\n"
     ]
    },
    {
     "name": "stdout",
     "output_type": "stream",
     "text": [
      "Epoch 21/50, Loss: 0.3993\n"
     ]
    },
    {
     "name": "stderr",
     "output_type": "stream",
     "text": [
      "100%|██████████| 65507/65507 [02:13<00:00, 490.65it/s]\n"
     ]
    },
    {
     "name": "stdout",
     "output_type": "stream",
     "text": [
      "Epoch 22/50, Loss: 0.3992\n"
     ]
    },
    {
     "name": "stderr",
     "output_type": "stream",
     "text": [
      "100%|██████████| 65507/65507 [02:12<00:00, 492.54it/s]\n"
     ]
    },
    {
     "name": "stdout",
     "output_type": "stream",
     "text": [
      "Epoch 23/50, Loss: 0.3991\n"
     ]
    },
    {
     "name": "stderr",
     "output_type": "stream",
     "text": [
      "100%|██████████| 65507/65507 [02:09<00:00, 506.67it/s]\n"
     ]
    },
    {
     "name": "stdout",
     "output_type": "stream",
     "text": [
      "Epoch 24/50, Loss: 0.3991\n"
     ]
    },
    {
     "name": "stderr",
     "output_type": "stream",
     "text": [
      "100%|██████████| 65507/65507 [02:10<00:00, 503.58it/s]\n"
     ]
    },
    {
     "name": "stdout",
     "output_type": "stream",
     "text": [
      "Epoch 25/50, Loss: 0.3989\n"
     ]
    },
    {
     "name": "stderr",
     "output_type": "stream",
     "text": [
      "100%|██████████| 65507/65507 [02:10<00:00, 501.10it/s]\n"
     ]
    },
    {
     "name": "stdout",
     "output_type": "stream",
     "text": [
      "Epoch 26/50, Loss: 0.3988\n"
     ]
    },
    {
     "name": "stderr",
     "output_type": "stream",
     "text": [
      "100%|██████████| 65507/65507 [02:12<00:00, 493.17it/s]\n"
     ]
    },
    {
     "name": "stdout",
     "output_type": "stream",
     "text": [
      "Epoch 27/50, Loss: 0.3985\n"
     ]
    },
    {
     "name": "stderr",
     "output_type": "stream",
     "text": [
      "100%|██████████| 65507/65507 [02:12<00:00, 494.64it/s]\n"
     ]
    },
    {
     "name": "stdout",
     "output_type": "stream",
     "text": [
      "Epoch 28/50, Loss: 0.3986\n"
     ]
    },
    {
     "name": "stderr",
     "output_type": "stream",
     "text": [
      "100%|██████████| 65507/65507 [02:12<00:00, 494.18it/s]\n"
     ]
    },
    {
     "name": "stdout",
     "output_type": "stream",
     "text": [
      "Epoch 29/50, Loss: 0.3987\n"
     ]
    },
    {
     "name": "stderr",
     "output_type": "stream",
     "text": [
      "100%|██████████| 65507/65507 [02:10<00:00, 500.31it/s]\n"
     ]
    },
    {
     "name": "stdout",
     "output_type": "stream",
     "text": [
      "Epoch 30/50, Loss: 0.3985\n"
     ]
    },
    {
     "name": "stderr",
     "output_type": "stream",
     "text": [
      "100%|██████████| 65507/65507 [02:12<00:00, 494.14it/s]\n"
     ]
    },
    {
     "name": "stdout",
     "output_type": "stream",
     "text": [
      "Epoch 31/50, Loss: 0.3985\n"
     ]
    },
    {
     "name": "stderr",
     "output_type": "stream",
     "text": [
      "100%|██████████| 65507/65507 [02:14<00:00, 486.00it/s]\n"
     ]
    },
    {
     "name": "stdout",
     "output_type": "stream",
     "text": [
      "Epoch 32/50, Loss: 0.3984\n"
     ]
    },
    {
     "name": "stderr",
     "output_type": "stream",
     "text": [
      "100%|██████████| 65507/65507 [02:16<00:00, 479.18it/s]\n"
     ]
    },
    {
     "name": "stdout",
     "output_type": "stream",
     "text": [
      "Epoch 33/50, Loss: 0.3984\n"
     ]
    },
    {
     "name": "stderr",
     "output_type": "stream",
     "text": [
      "100%|██████████| 65507/65507 [02:14<00:00, 486.47it/s]\n"
     ]
    },
    {
     "name": "stdout",
     "output_type": "stream",
     "text": [
      "Epoch 34/50, Loss: 0.3984\n"
     ]
    },
    {
     "name": "stderr",
     "output_type": "stream",
     "text": [
      "100%|██████████| 65507/65507 [02:14<00:00, 486.65it/s]\n"
     ]
    },
    {
     "name": "stdout",
     "output_type": "stream",
     "text": [
      "Epoch 35/50, Loss: 0.3984\n"
     ]
    },
    {
     "name": "stderr",
     "output_type": "stream",
     "text": [
      "100%|██████████| 65507/65507 [02:17<00:00, 477.93it/s]\n"
     ]
    },
    {
     "name": "stdout",
     "output_type": "stream",
     "text": [
      "Epoch 36/50, Loss: 0.3983\n"
     ]
    },
    {
     "name": "stderr",
     "output_type": "stream",
     "text": [
      "100%|██████████| 65507/65507 [02:16<00:00, 479.89it/s]\n"
     ]
    },
    {
     "name": "stdout",
     "output_type": "stream",
     "text": [
      "Epoch 37/50, Loss: 0.3983\n"
     ]
    },
    {
     "name": "stderr",
     "output_type": "stream",
     "text": [
      "100%|██████████| 65507/65507 [02:15<00:00, 482.19it/s]\n"
     ]
    },
    {
     "name": "stdout",
     "output_type": "stream",
     "text": [
      "Epoch 38/50, Loss: 0.3982\n"
     ]
    },
    {
     "name": "stderr",
     "output_type": "stream",
     "text": [
      "100%|██████████| 65507/65507 [02:13<00:00, 489.18it/s]\n"
     ]
    },
    {
     "name": "stdout",
     "output_type": "stream",
     "text": [
      "Epoch 39/50, Loss: 0.3981\n"
     ]
    },
    {
     "name": "stderr",
     "output_type": "stream",
     "text": [
      "100%|██████████| 65507/65507 [02:16<00:00, 479.15it/s]\n"
     ]
    },
    {
     "name": "stdout",
     "output_type": "stream",
     "text": [
      "Epoch 40/50, Loss: 0.3981\n"
     ]
    },
    {
     "name": "stderr",
     "output_type": "stream",
     "text": [
      "100%|██████████| 65507/65507 [02:15<00:00, 484.75it/s]\n"
     ]
    },
    {
     "name": "stdout",
     "output_type": "stream",
     "text": [
      "Epoch 41/50, Loss: 0.3981\n"
     ]
    },
    {
     "name": "stderr",
     "output_type": "stream",
     "text": [
      "100%|██████████| 65507/65507 [02:16<00:00, 479.39it/s]\n"
     ]
    },
    {
     "name": "stdout",
     "output_type": "stream",
     "text": [
      "Epoch 42/50, Loss: 0.3980\n"
     ]
    },
    {
     "name": "stderr",
     "output_type": "stream",
     "text": [
      "100%|██████████| 65507/65507 [02:14<00:00, 485.65it/s]\n"
     ]
    },
    {
     "name": "stdout",
     "output_type": "stream",
     "text": [
      "Epoch 43/50, Loss: 0.3980\n"
     ]
    },
    {
     "name": "stderr",
     "output_type": "stream",
     "text": [
      "100%|██████████| 65507/65507 [02:15<00:00, 481.88it/s]\n"
     ]
    },
    {
     "name": "stdout",
     "output_type": "stream",
     "text": [
      "Epoch 44/50, Loss: 0.3980\n"
     ]
    },
    {
     "name": "stderr",
     "output_type": "stream",
     "text": [
      "100%|██████████| 65507/65507 [02:16<00:00, 478.97it/s]\n"
     ]
    },
    {
     "name": "stdout",
     "output_type": "stream",
     "text": [
      "Epoch 45/50, Loss: 0.3979\n"
     ]
    },
    {
     "name": "stderr",
     "output_type": "stream",
     "text": [
      "100%|██████████| 65507/65507 [02:15<00:00, 482.26it/s]\n"
     ]
    },
    {
     "name": "stdout",
     "output_type": "stream",
     "text": [
      "Epoch 46/50, Loss: 0.3978\n"
     ]
    },
    {
     "name": "stderr",
     "output_type": "stream",
     "text": [
      "100%|██████████| 65507/65507 [02:16<00:00, 480.57it/s]\n"
     ]
    },
    {
     "name": "stdout",
     "output_type": "stream",
     "text": [
      "Epoch 47/50, Loss: 0.3980\n"
     ]
    },
    {
     "name": "stderr",
     "output_type": "stream",
     "text": [
      "100%|██████████| 65507/65507 [02:14<00:00, 486.06it/s]\n"
     ]
    },
    {
     "name": "stdout",
     "output_type": "stream",
     "text": [
      "Epoch 48/50, Loss: 0.3978\n"
     ]
    },
    {
     "name": "stderr",
     "output_type": "stream",
     "text": [
      "100%|██████████| 65507/65507 [02:16<00:00, 479.18it/s]\n"
     ]
    },
    {
     "name": "stdout",
     "output_type": "stream",
     "text": [
      "Epoch 49/50, Loss: 0.3977\n"
     ]
    },
    {
     "name": "stderr",
     "output_type": "stream",
     "text": [
      "100%|██████████| 65507/65507 [2:33:42<00:00,  7.10it/s] \n"
     ]
    },
    {
     "name": "stdout",
     "output_type": "stream",
     "text": [
      "Epoch 50/50, Loss: 0.3978\n",
      "Validation NWRMSLE: 0.614659817881942\n",
      "Validation MSE: 0.37780669171866216\n",
      "Validation RMSE: 0.614659817881942\n",
      "Validation MAE: 0.44347411595426783\n",
      "Test NWRMSLE: 0.6227524895336325\n",
      "Test MSE: 113.16173536062163\n",
      "Test RMSE: 10.637750484036633\n",
      "Test MAE: 2.6817606138710235\n"
     ]
    }
   ],
   "source": [
    "batch_size = 16\n",
    "train_dataset = TensorDataset(X_train_tensor, y_train_tensor)\n",
    "train_loader = DataLoader(train_dataset, batch_size=batch_size, shuffle=True)\n",
    "\n",
    "lstm_model = LSTMModel(input_size, hidden_size, num_layers, num_targets).to(device)\n",
    "\n",
    "criterion = nn.MSELoss()\n",
    "optimizer = optim.Adam(lstm_model.parameters(), lr=0.001)\n",
    "\n",
    "\n",
    "for epoch in range(epochs):\n",
    "    lstm_model.train()\n",
    "    total_loss = 0\n",
    "    for X_batch, y_batch in tqdm(train_loader):\n",
    "        optimizer.zero_grad()\n",
    "        y_pred = lstm_model(X_batch)\n",
    "        loss = criterion(y_pred, y_batch)\n",
    "        loss.backward()\n",
    "        optimizer.step()\n",
    "        total_loss += loss.item()\n",
    "    print(f\"Epoch {epoch+1}/{epochs}, Loss: {total_loss/len(train_loader):.4f}\")\n",
    "\n",
    "lstm_model.eval()\n",
    "with torch.no_grad():\n",
    "    y_pred_val = lstm_model(X_val_tensor).cpu().detach()\n",
    "    y_pred_test = lstm_model(X_test_tensor).cpu().detach()\n",
    "\n",
    "weights = items_data_indexed[\"perishable\"].values * 0.25 + 1\n",
    "mse_val, rmse_val, mae_val, nwrmsle_val = cal_error(y_val, y_pred_val, weights)\n",
    "_, _, _, nwrmsle_test = cal_error(y_test, y_pred_test, weights)\n",
    "mse_test, rmse_test, mae_test, _ = cal_error(np.clip(np.expm1(y_test), 0, 1000), np.clip(np.expm1(y_pred_test), 0, 1000), weights)\n",
    "\n",
    "print(f'Validation NWRMSLE: {nwrmsle_val}')\n",
    "print(f'Validation MSE: {mse_val}')\n",
    "print(f'Validation RMSE: {rmse_val}')\n",
    "print(f'Validation MAE: {mae_val}')\n",
    "\n",
    "print(f'Test NWRMSLE: {nwrmsle_test}')\n",
    "print(f'Test MSE: {mse_test}')\n",
    "print(f'Test RMSE: {rmse_test}')\n",
    "print(f'Test MAE: {mae_test}')\n",
    "\n",
    "torch.save(lstm_model.state_dict(), \"lstm_model.pth\")\n"
   ]
  },
  {
   "cell_type": "markdown",
   "metadata": {},
   "source": [
    "# Stacked Ensemble Model"
   ]
  },
  {
   "cell_type": "code",
   "execution_count": 17,
   "metadata": {},
   "outputs": [
    {
     "name": "stderr",
     "output_type": "stream",
     "text": [
      "100%|██████████| 14/14 [00:22<00:00,  1.64s/it]"
     ]
    },
    {
     "name": "stdout",
     "output_type": "stream",
     "text": [
      "\n",
      "Final Combined Metrics:\n",
      "Average Test NWRMSLE: 0.618222858708911\n",
      "Average Test MSE: 110.95163453194873\n",
      "Average Test RMSE: 10.416994461344625\n",
      "Average Test MAE: 2.6388299440502294\n"
     ]
    },
    {
     "name": "stderr",
     "output_type": "stream",
     "text": [
      "\n"
     ]
    }
   ],
   "source": [
    "lstm_model = LSTMModel(input_size, hidden_size, num_layers, num_targets).to(device)\n",
    "lstm_model.load_state_dict(torch.load(\"lstm_model.pth\", map_location=device))\n",
    "lstm_model.eval()\n",
    "\n",
    "X_val_tensor = torch.tensor(reshape_for_lstm(X_val_scaled), dtype=torch.float32).to(device)\n",
    "X_test_tensor = torch.tensor(reshape_for_lstm(X_test_scaled), dtype=torch.float32).to(device)\n",
    "\n",
    "with torch.no_grad():\n",
    "    y_pred_val_lstm = lstm_model(X_val_tensor).cpu().numpy()\n",
    "    y_pred_test_lstm = lstm_model(X_test_tensor).cpu().numpy()\n",
    "\n",
    "nwrmsle_vals, mse_vals, rmse_vals, mae_vals = [], [], [], []\n",
    "\n",
    "for i in tqdm(range(num_targets)):\n",
    "    xgb_model = xgb.Booster()\n",
    "    xgb_model.load_model(f\"xgboost_improved_model_target_{i+1}.model\")\n",
    "    \n",
    "    lgb_model = lgb.Booster(model_file=f\"lightgbm_improved_model_target_{i+1}.txt\")\n",
    "    \n",
    "    y_pred_val_xgb = xgb_model.predict(xgb.DMatrix(X_val))\n",
    "    y_pred_test_xgb = xgb_model.predict(xgb.DMatrix(X_test))\n",
    "    \n",
    "    y_pred_val_lgb = lgb_model.predict(X_val)\n",
    "    y_pred_test_lgb = lgb_model.predict(X_test)\n",
    "    \n",
    "    y_pred_val_all = np.column_stack([y_pred_val_xgb, y_pred_val_lgb, y_pred_val_lstm[:, i]])\n",
    "    y_pred_test_all = np.column_stack([y_pred_test_xgb, y_pred_test_lgb, y_pred_test_lstm[:, i]])\n",
    "    \n",
    "    meta_model = Ridge(alpha=1.0)\n",
    "    meta_model.fit(y_pred_val_all, y_val[:, i])\n",
    "    \n",
    "    y_pred_test_ensemble = meta_model.predict(y_pred_test_all)\n",
    "    \n",
    "    weights = items_data_indexed[\"perishable\"].values * 0.25 + 1\n",
    "    _, _, _, nwrmsle_test = cal_error(y_test[:, i], y_pred_test_ensemble, weights)\n",
    "    mse_test, rmse_test, mae_test, _ = cal_error(np.clip(np.expm1(y_test[:, i]), 0, 1000),\n",
    "                                                  np.clip(np.expm1(y_pred_test_ensemble), 0, 1000),\n",
    "                                                  weights)\n",
    "    \n",
    "    nwrmsle_vals.append(nwrmsle_test)\n",
    "    mse_vals.append(mse_test)\n",
    "    rmse_vals.append(rmse_test)\n",
    "    mae_vals.append(mae_test)\n",
    "\n",
    "avg_nwrmsle, avg_mse, avg_rmse, avg_mae = map(np.mean, [nwrmsle_vals, mse_vals, rmse_vals, mae_vals])\n",
    "\n",
    "print(\"\\nFinal Combined Metrics:\")\n",
    "print(f'Average Test NWRMSLE: {avg_nwrmsle}')\n",
    "print(f'Average Test MSE: {avg_mse}')\n",
    "print(f'Average Test RMSE: {avg_rmse}')\n",
    "print(f'Average Test MAE: {avg_mae}')\n"
   ]
  },
  {
   "cell_type": "markdown",
   "metadata": {},
   "source": [
    "## Analyze Predictions"
   ]
  },
  {
   "cell_type": "code",
   "execution_count": 13,
   "metadata": {},
   "outputs": [],
   "source": [
    "time_steps = 200\n",
    "store_type = 0\n",
    "filtered_X_test = X_test[X_test[\"store_type\"] == store_type].iloc[:time_steps]\n",
    "filtered_y_test = y_test[X_test[\"store_type\"] == store_type][:time_steps, 13]\n",
    "\n",
    "xgb_model = xgb.Booster()\n",
    "xgb_model.load_model(f\"xgboost_improved_model_target_{13}.model\")\n",
    "    \n",
    "lgb_model = lgb.Booster(model_file=f\"lightgbm_improved_model_target_{13}.txt\")\n",
    "\n",
    "y_pred_test_xgb = xgb_model.predict(xgb.DMatrix(filtered_X_test))\n",
    "y_pred_test_lgb = lgb_model.predict(filtered_X_test)\n",
    "\n",
    "filtered_X_test_lstm = scaler.transform(filtered_X_test)\n",
    "filtered_X_test_lstm = np.expand_dims(filtered_X_test_lstm, axis=-1)\n",
    "filtered_X_test_tensor = torch.tensor(filtered_X_test_lstm, dtype=torch.float32).to(device)\n",
    "\n",
    "lstm_model = LSTMModel(input_size, hidden_size, num_layers, num_targets).to(device)\n",
    "lstm_model.load_state_dict(torch.load(\"lstm_model.pth\", map_location=device))\n",
    "\n",
    "with torch.no_grad():\n",
    "    y_pred_test_lstm = lstm_model(filtered_X_test_tensor).cpu().numpy()[:, 13]\n",
    "\n",
    "filtered_y_test_transformed = np.expm1(filtered_y_test)\n",
    "y_pred_test_xgb_transformed = np.expm1(y_pred_test_xgb)\n",
    "y_pred_test_lgb_transformed = np.expm1(y_pred_test_lgb)\n",
    "y_pred_test_lstm_transformed = np.expm1(y_pred_test_lstm)\n",
    "\n",
    "plt.plot(filtered_y_test_transformed, label=\"Actual\", color=\"black\", linewidth=1)\n",
    "plt.figure(figsize=(8, 4))\n",
    "plt.plot(filtered_y_test_transformed, label=\"Actual\", color=\"black\", linewidth=1)\n",
    "plt.plot(y_pred_test_xgb_transformed, label=\"XGBoost Predicted\", color=\"blue\", alpha=0.7)\n",
    "plt.xlabel(\"Time Steps\")\n",
    "plt.ylabel(\"Unit Sales\")\n",
    "plt.title(\"XGBoost Predictions vs Actual\")\n",
    "plt.legend()\n",
    "plt.show()\n",
    "\n",
    "plt.figure(figsize=(8, 4))\n",
    "plt.plot(filtered_y_test_transformed, label=\"Actual\", color=\"black\", linewidth=1)\n",
    "plt.plot(y_pred_test_lgb_transformed, label=\"LightGBM Predicted\", color=\"green\", alpha=0.7)\n",
    "plt.xlabel(\"Time Steps\")\n",
    "plt.ylabel(\"Unit Sales\")\n",
    "plt.title(\"LightGBM Predictions vs Actual\")\n",
    "plt.legend()\n",
    "plt.show()\n",
    "\n",
    "plt.figure(figsize=(8, 4))\n",
    "plt.plot(filtered_y_test_transformed, label=\"Actual\", color=\"black\", linewidth=1)\n",
    "plt.plot(y_pred_test_lstm_transformed, label=\"LSTM Predicted\", color=\"red\", alpha=0.7)\n",
    "plt.xlabel(\"Time Steps\")\n",
    "plt.ylabel(\"Unit Sales\")\n",
    "plt.title(\"LSTM Predictions vs Actual\")\n",
    "plt.legend()\n",
    "plt.show()"
   ]
  },
  {
   "cell_type": "code",
   "execution_count": 141,
   "metadata": {},
   "outputs": [
    {
     "data": {
      "text/html": [
       "<div>\n",
       "<style scoped>\n",
       "    .dataframe tbody tr th:only-of-type {\n",
       "        vertical-align: middle;\n",
       "    }\n",
       "\n",
       "    .dataframe tbody tr th {\n",
       "        vertical-align: top;\n",
       "    }\n",
       "\n",
       "    .dataframe thead th {\n",
       "        text-align: right;\n",
       "    }\n",
       "</style>\n",
       "<table border=\"1\" class=\"dataframe\">\n",
       "  <thead>\n",
       "    <tr style=\"text-align: right;\">\n",
       "      <th></th>\n",
       "      <th>city</th>\n",
       "      <th>state</th>\n",
       "      <th>type</th>\n",
       "      <th>cluster</th>\n",
       "      <th>type_encoded</th>\n",
       "      <th>city_encoded</th>\n",
       "      <th>state_encoded</th>\n",
       "    </tr>\n",
       "    <tr>\n",
       "      <th>store_nbr</th>\n",
       "      <th></th>\n",
       "      <th></th>\n",
       "      <th></th>\n",
       "      <th></th>\n",
       "      <th></th>\n",
       "      <th></th>\n",
       "      <th></th>\n",
       "    </tr>\n",
       "  </thead>\n",
       "  <tbody>\n",
       "    <tr>\n",
       "      <th>1</th>\n",
       "      <td>Quito</td>\n",
       "      <td>Pichincha</td>\n",
       "      <td>D</td>\n",
       "      <td>13</td>\n",
       "      <td>3</td>\n",
       "      <td>18</td>\n",
       "      <td>12</td>\n",
       "    </tr>\n",
       "    <tr>\n",
       "      <th>1</th>\n",
       "      <td>Quito</td>\n",
       "      <td>Pichincha</td>\n",
       "      <td>D</td>\n",
       "      <td>13</td>\n",
       "      <td>3</td>\n",
       "      <td>18</td>\n",
       "      <td>12</td>\n",
       "    </tr>\n",
       "    <tr>\n",
       "      <th>1</th>\n",
       "      <td>Quito</td>\n",
       "      <td>Pichincha</td>\n",
       "      <td>D</td>\n",
       "      <td>13</td>\n",
       "      <td>3</td>\n",
       "      <td>18</td>\n",
       "      <td>12</td>\n",
       "    </tr>\n",
       "    <tr>\n",
       "      <th>1</th>\n",
       "      <td>Quito</td>\n",
       "      <td>Pichincha</td>\n",
       "      <td>D</td>\n",
       "      <td>13</td>\n",
       "      <td>3</td>\n",
       "      <td>18</td>\n",
       "      <td>12</td>\n",
       "    </tr>\n",
       "    <tr>\n",
       "      <th>1</th>\n",
       "      <td>Quito</td>\n",
       "      <td>Pichincha</td>\n",
       "      <td>D</td>\n",
       "      <td>13</td>\n",
       "      <td>3</td>\n",
       "      <td>18</td>\n",
       "      <td>12</td>\n",
       "    </tr>\n",
       "    <tr>\n",
       "      <th>...</th>\n",
       "      <td>...</td>\n",
       "      <td>...</td>\n",
       "      <td>...</td>\n",
       "      <td>...</td>\n",
       "      <td>...</td>\n",
       "      <td>...</td>\n",
       "      <td>...</td>\n",
       "    </tr>\n",
       "    <tr>\n",
       "      <th>54</th>\n",
       "      <td>El Carmen</td>\n",
       "      <td>Manabi</td>\n",
       "      <td>C</td>\n",
       "      <td>3</td>\n",
       "      <td>2</td>\n",
       "      <td>5</td>\n",
       "      <td>10</td>\n",
       "    </tr>\n",
       "    <tr>\n",
       "      <th>54</th>\n",
       "      <td>El Carmen</td>\n",
       "      <td>Manabi</td>\n",
       "      <td>C</td>\n",
       "      <td>3</td>\n",
       "      <td>2</td>\n",
       "      <td>5</td>\n",
       "      <td>10</td>\n",
       "    </tr>\n",
       "    <tr>\n",
       "      <th>54</th>\n",
       "      <td>El Carmen</td>\n",
       "      <td>Manabi</td>\n",
       "      <td>C</td>\n",
       "      <td>3</td>\n",
       "      <td>2</td>\n",
       "      <td>5</td>\n",
       "      <td>10</td>\n",
       "    </tr>\n",
       "    <tr>\n",
       "      <th>54</th>\n",
       "      <td>El Carmen</td>\n",
       "      <td>Manabi</td>\n",
       "      <td>C</td>\n",
       "      <td>3</td>\n",
       "      <td>2</td>\n",
       "      <td>5</td>\n",
       "      <td>10</td>\n",
       "    </tr>\n",
       "    <tr>\n",
       "      <th>54</th>\n",
       "      <td>El Carmen</td>\n",
       "      <td>Manabi</td>\n",
       "      <td>C</td>\n",
       "      <td>3</td>\n",
       "      <td>2</td>\n",
       "      <td>5</td>\n",
       "      <td>10</td>\n",
       "    </tr>\n",
       "  </tbody>\n",
       "</table>\n",
       "<p>174685 rows × 7 columns</p>\n",
       "</div>"
      ],
      "text/plain": [
       "                city      state type  cluster  type_encoded  city_encoded  \\\n",
       "store_nbr                                                                   \n",
       "1              Quito  Pichincha    D       13             3            18   \n",
       "1              Quito  Pichincha    D       13             3            18   \n",
       "1              Quito  Pichincha    D       13             3            18   \n",
       "1              Quito  Pichincha    D       13             3            18   \n",
       "1              Quito  Pichincha    D       13             3            18   \n",
       "...              ...        ...  ...      ...           ...           ...   \n",
       "54         El Carmen     Manabi    C        3             2             5   \n",
       "54         El Carmen     Manabi    C        3             2             5   \n",
       "54         El Carmen     Manabi    C        3             2             5   \n",
       "54         El Carmen     Manabi    C        3             2             5   \n",
       "54         El Carmen     Manabi    C        3             2             5   \n",
       "\n",
       "           state_encoded  \n",
       "store_nbr                 \n",
       "1                     12  \n",
       "1                     12  \n",
       "1                     12  \n",
       "1                     12  \n",
       "1                     12  \n",
       "...                  ...  \n",
       "54                    10  \n",
       "54                    10  \n",
       "54                    10  \n",
       "54                    10  \n",
       "54                    10  \n",
       "\n",
       "[174685 rows x 7 columns]"
      ]
     },
     "execution_count": 141,
     "metadata": {},
     "output_type": "execute_result"
    }
   ],
   "source": [
    "stores_data_indexed"
   ]
  },
  {
   "cell_type": "code",
   "execution_count": 167,
   "metadata": {},
   "outputs": [],
   "source": [
    "y_test_df = pd.DataFrame(y_test[:, 13], columns=['y_test']) \n",
    "y_pred_test_lgb = pd.DataFrame(lgb_model.predict(X_test), columns=['y_test_pred'])\n",
    "\n",
    "stores_data_indexed['y_test'] = np.expm1(y_test_df)\n",
    "stores_data_indexed['y_test_pred'] = np.expm1(y_pred_test_lgb)\n",
    "\n",
    "stores_data_indexed['squared_error'] = (stores_data_indexed['y_test'] - stores_data_indexed['y_test_pred'])**2\n",
    "\n",
    "items_data_indexed['y_test'] = np.expm1(y_test_df)\n",
    "items_data_indexed['y_test_pred'] = np.expm1(y_pred_test_lgb)\n",
    "\n",
    "items_data_indexed['squared_error'] = (items_data_indexed['y_test'] - items_data_indexed['y_test_pred'])**2"
   ]
  },
  {
   "cell_type": "code",
   "execution_count": 160,
   "metadata": {},
   "outputs": [
    {
     "name": "stderr",
     "output_type": "stream",
     "text": [
      "C:\\Users\\CSamarajeewa\\AppData\\Local\\Temp\\ipykernel_21868\\467349799.py:6: FutureWarning: \n",
      "\n",
      "Passing `palette` without assigning `hue` is deprecated and will be removed in v0.14.0. Assign the `x` variable to `hue` and set `legend=False` for the same effect.\n",
      "\n",
      "  sns.barplot(x='store_nbr', y='rmse', data=rmse_per_store, palette='viridis')\n"
     ]
    },
    {
     "data": {
      "image/png": "[encoded data removed]",
      "text/plain": [
       "<Figure size 1000x600 with 1 Axes>"
      ]
     },
     "metadata": {},
     "output_type": "display_data"
    }
   ],
   "source": [
    "rmse_per_store = stores_data_indexed.groupby('store_nbr')['squared_error'].mean().apply(np.sqrt).reset_index()\n",
    "\n",
    "rmse_per_store.rename(columns={'squared_error': 'rmse'}, inplace=True)\n",
    "\n",
    "plt.figure(figsize=(10, 6))\n",
    "sns.barplot(x='store_nbr', y='rmse', data=rmse_per_store, palette='viridis')\n",
    "\n",
    "plt.title('RMSE per Store')\n",
    "plt.xlabel('Store Number')\n",
    "plt.ylabel('RMSE')\n",
    "\n",
    "plt.xticks(rotation=90)\n",
    "plt.show()"
   ]
  },
  {
   "cell_type": "code",
   "execution_count": 168,
   "metadata": {},
   "outputs": [
    {
     "name": "stderr",
     "output_type": "stream",
     "text": [
      "C:\\Users\\CSamarajeewa\\AppData\\Local\\Temp\\ipykernel_21868\\2973711263.py:6: FutureWarning: \n",
      "\n",
      "Passing `palette` without assigning `hue` is deprecated and will be removed in v0.14.0. Assign the `x` variable to `hue` and set `legend=False` for the same effect.\n",
      "\n",
      "  sns.barplot(x='type', y='rmse', data=rmse_per_store_type, palette='viridis')\n"
     ]
    },
    {
     "data": {
      "image/png": "[encoded data removed]",
      "text/plain": [
       "<Figure size 1000x600 with 1 Axes>"
      ]
     },
     "metadata": {},
     "output_type": "display_data"
    }
   ],
   "source": [
    "rmse_per_store_type = stores_data_indexed.groupby('type')['squared_error'].mean().apply(np.sqrt).reset_index()\n",
    "\n",
    "rmse_per_store_type.rename(columns={'squared_error': 'rmse'}, inplace=True)\n",
    "\n",
    "plt.figure(figsize=(10, 6))\n",
    "sns.barplot(x='type', y='rmse', data=rmse_per_store_type, palette='viridis')\n",
    "\n",
    "plt.title('RMSE per Store Type')\n",
    "plt.xlabel('Store Type')\n",
    "plt.ylabel('RMSE')\n",
    "\n",
    "plt.xticks(rotation=45)\n",
    "plt.show()\n"
   ]
  },
  {
   "cell_type": "code",
   "execution_count": 172,
   "metadata": {},
   "outputs": [
    {
     "name": "stderr",
     "output_type": "stream",
     "text": [
      "C:\\Users\\CSamarajeewa\\AppData\\Local\\Temp\\ipykernel_21868\\3086241890.py:6: FutureWarning: \n",
      "\n",
      "Passing `palette` without assigning `hue` is deprecated and will be removed in v0.14.0. Assign the `x` variable to `hue` and set `legend=False` for the same effect.\n",
      "\n",
      "  sns.barplot(x='family', y='rmse', data=rmse_per_class, palette='viridis')\n"
     ]
    },
    {
     "data": {
      "image/png": "[encoded data removed]",
      "text/plain": [
       "<Figure size 1200x600 with 1 Axes>"
      ]
     },
     "metadata": {},
     "output_type": "display_data"
    }
   ],
   "source": [
    "rmse_per_class = items_data_indexed.groupby('family')['squared_error'].mean().apply(np.sqrt).reset_index()\n",
    "\n",
    "rmse_per_class.rename(columns={'squared_error': 'rmse'}, inplace=True)\n",
    "\n",
    "plt.figure(figsize=(12, 6))\n",
    "sns.barplot(x='family', y='rmse', data=rmse_per_class, palette='viridis')\n",
    "\n",
    "plt.title('RMSE per Family')\n",
    "plt.xlabel('Family')\n",
    "plt.ylabel('RMSE')\n",
    "\n",
    "plt.xticks(rotation=45)\n",
    "plt.show()"
   ]
  },
  {
   "cell_type": "code",
   "execution_count": 174,
   "metadata": {},
   "outputs": [
    {
     "name": "stderr",
     "output_type": "stream",
     "text": [
      "C:\\Users\\CSamarajeewa\\AppData\\Local\\Temp\\ipykernel_21868\\466114513.py:6: FutureWarning: \n",
      "\n",
      "Passing `palette` without assigning `hue` is deprecated and will be removed in v0.14.0. Assign the `x` variable to `hue` and set `legend=False` for the same effect.\n",
      "\n",
      "  sns.barplot(x='perishable', y='rmse', data=rmse_per_perishable, palette='viridis')\n"
     ]
    },
    {
     "data": {
      "image/png": "[encoded data removed]",
      "text/plain": [
       "<Figure size 1000x600 with 1 Axes>"
      ]
     },
     "metadata": {},
     "output_type": "display_data"
    }
   ],
   "source": [
    "rmse_per_perishable = items_data_indexed.groupby('perishable')['squared_error'].mean().apply(np.sqrt).reset_index()\n",
    "\n",
    "rmse_per_perishable.rename(columns={'squared_error': 'rmse'}, inplace=True)\n",
    "\n",
    "plt.figure(figsize=(10, 6))\n",
    "sns.barplot(x='perishable', y='rmse', data=rmse_per_perishable, palette='viridis')\n",
    "\n",
    "plt.title('RMSE per Perishable')\n",
    "plt.xlabel('Perishable (0=No, 1=Yes)')\n",
    "plt.ylabel('RMSE')\n",
    "\n",
    "plt.show()"
   ]
  }
 ],
 "metadata": {
  "colab": {
   "provenance": []
  },
  "kernelspec": {
   "display_name": "Python 3 (ipykernel)",
   "language": "python",
   "name": "python3"
  },
  "language_info": {
   "codemirror_mode": {
    "name": "ipython",
    "version": 3
   },
   "file_extension": ".py",
   "mimetype": "text/x-python",
   "name": "python",
   "nbconvert_exporter": "python",
   "pygments_lexer": "ipython3",
   "version": "3.10.10"
  }
 },
 "nbformat": 4,
 "nbformat_minor": 4
}
